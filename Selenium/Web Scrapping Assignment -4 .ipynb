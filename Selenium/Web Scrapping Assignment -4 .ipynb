{
 "cells": [
  {
   "cell_type": "code",
   "execution_count": 1,
   "id": "f0750383",
   "metadata": {},
   "outputs": [],
   "source": [
    "# Importing Libraries\n",
    "import selenium\n",
    "import pandas as pd\n",
    "import time\n",
    "from bs4 import BeautifulSoup\n",
    "import requests\n",
    "\n",
    "# Importing selenium webdriver \n",
    "from selenium import webdriver\n",
    "from selenium.webdriver.common.by import By\n",
    "\n",
    "# Importing required Exceptions which needs to handled\n",
    "from selenium.common.exceptions import NoSuchElementException\n",
    "from selenium.common.exceptions import StaleElementReferenceException\n",
    "from selenium.common.exceptions import ElementClickInterceptedException\n",
    "\n",
    "# importing regex\n",
    "import re\n",
    "\n",
    "#Importing Warnings\n",
    "import warnings\n",
    "warnings.filterwarnings('ignore')\n"
   ]
  },
  {
   "cell_type": "markdown",
   "id": "0c692cea",
   "metadata": {},
   "source": [
    "# Q1"
   ]
  },
  {
   "cell_type": "code",
   "execution_count": 2,
   "id": "d0de9c1e",
   "metadata": {},
   "outputs": [],
   "source": [
    "page1=requests.get('https://en.wikipedia.org/wiki/List_of_most-viewed_YouTube_videos')"
   ]
  },
  {
   "cell_type": "code",
   "execution_count": 3,
   "id": "35f0d04b",
   "metadata": {},
   "outputs": [
    {
     "data": {
      "text/plain": [
       "<Response [200]>"
      ]
     },
     "execution_count": 3,
     "metadata": {},
     "output_type": "execute_result"
    }
   ],
   "source": [
    "page1"
   ]
  },
  {
   "cell_type": "markdown",
   "id": "77049fe1",
   "metadata": {},
   "source": [
    "### Page Content"
   ]
  },
  {
   "cell_type": "code",
   "execution_count": 4,
   "id": "c618a01c",
   "metadata": {},
   "outputs": [],
   "source": [
    "soup1=BeautifulSoup(page1.content)\n"
   ]
  },
  {
   "cell_type": "markdown",
   "id": "2e7610dc",
   "metadata": {},
   "source": [
    "### Scrapping Movie Names"
   ]
  },
  {
   "cell_type": "code",
   "execution_count": 5,
   "id": "cf3f8c63",
   "metadata": {},
   "outputs": [
    {
     "ename": "TypeError",
     "evalue": "'NoneType' object is not iterable",
     "output_type": "error",
     "traceback": [
      "\u001b[1;31m---------------------------------------------------------------------------\u001b[0m",
      "\u001b[1;31mTypeError\u001b[0m                                 Traceback (most recent call last)",
      "Input \u001b[1;32mIn [5]\u001b[0m, in \u001b[0;36m<cell line: 3>\u001b[1;34m()\u001b[0m\n\u001b[0;32m      1\u001b[0m movie_names\u001b[38;5;241m=\u001b[39m[]\n\u001b[1;32m----> 3\u001b[0m \u001b[38;5;28;01mfor\u001b[39;00m i \u001b[38;5;129;01min\u001b[39;00m soup1\u001b[38;5;241m.\u001b[39mfind(\u001b[38;5;124m'\u001b[39m\u001b[38;5;124mtable\u001b[39m\u001b[38;5;124m'\u001b[39m,class_\u001b[38;5;241m=\u001b[39m\u001b[38;5;124m\"\u001b[39m\u001b[38;5;124mwikitable sortable jquery-tablesorter\u001b[39m\u001b[38;5;124m\"\u001b[39m):\n\u001b[0;32m      4\u001b[0m     movie_names\u001b[38;5;241m.\u001b[39mappend(i\u001b[38;5;241m.\u001b[39mtext)\n\u001b[0;32m      6\u001b[0m movie_names\n",
      "\u001b[1;31mTypeError\u001b[0m: 'NoneType' object is not iterable"
     ]
    }
   ],
   "source": [
    "movie_names=[]\n",
    "\n",
    "for i in soup1.find('table',class_=\"wikitable sortable jquery-tablesorter\"):\n",
    "    movie_names.append(i.text)\n",
    "\n",
    "movie_names"
   ]
  },
  {
   "cell_type": "code",
   "execution_count": 6,
   "id": "c58a2884",
   "metadata": {
    "scrolled": true
   },
   "outputs": [],
   "source": [
    "table = soup1.select('wikitable sortable jquery-tablesorter')"
   ]
  },
  {
   "cell_type": "code",
   "execution_count": 7,
   "id": "f0702643",
   "metadata": {},
   "outputs": [],
   "source": [
    "table=soup1.find('table',class_=\"wikitable sortable jquery-tablesorter\")\n",
    "table"
   ]
  },
  {
   "cell_type": "markdown",
   "id": "6a92f66c",
   "metadata": {},
   "source": [
    "# Q2"
   ]
  },
  {
   "cell_type": "code",
   "execution_count": 8,
   "id": "49ef4e67",
   "metadata": {
    "scrolled": true
   },
   "outputs": [],
   "source": [
    "page2=requests.get('https://www.bcci.tv/international/fixtures')"
   ]
  },
  {
   "cell_type": "code",
   "execution_count": 9,
   "id": "168a114b",
   "metadata": {},
   "outputs": [
    {
     "data": {
      "text/plain": [
       "<Response [200]>"
      ]
     },
     "execution_count": 9,
     "metadata": {},
     "output_type": "execute_result"
    }
   ],
   "source": [
    "page2"
   ]
  },
  {
   "cell_type": "code",
   "execution_count": 10,
   "id": "755663c1",
   "metadata": {},
   "outputs": [],
   "source": [
    "soup2=BeautifulSoup(page2.content)\n",
    " "
   ]
  },
  {
   "cell_type": "markdown",
   "id": "355f3665",
   "metadata": {},
   "source": [
    "### Scrapping Series"
   ]
  },
  {
   "cell_type": "code",
   "execution_count": 11,
   "id": "6e7d29d0",
   "metadata": {},
   "outputs": [
    {
     "data": {
      "text/plain": [
       "[]"
      ]
     },
     "execution_count": 11,
     "metadata": {},
     "output_type": "execute_result"
    }
   ],
   "source": [
    "series=[]\n",
    "\n",
    "for i in soup2.find_all('span',class_=\"ng-binding\"):\n",
    "    series.append(i.text)\n",
    "\n",
    "series"
   ]
  },
  {
   "cell_type": "markdown",
   "id": "f450d303",
   "metadata": {},
   "source": [
    "### Scrapping Date"
   ]
  },
  {
   "cell_type": "code",
   "execution_count": 12,
   "id": "8f8d6f66",
   "metadata": {},
   "outputs": [
    {
     "data": {
      "text/plain": [
       "[]"
      ]
     },
     "execution_count": 12,
     "metadata": {},
     "output_type": "execute_result"
    }
   ],
   "source": [
    "date=[]\n",
    "\n",
    "for i in soup2.find_all('h5',class_=\"ng-binding\"):\n",
    "    date.append(i.text)\n",
    "\n",
    "date"
   ]
  },
  {
   "cell_type": "markdown",
   "id": "5947c66b",
   "metadata": {},
   "source": [
    "### Scrapping Time"
   ]
  },
  {
   "cell_type": "code",
   "execution_count": 13,
   "id": "19a57768",
   "metadata": {},
   "outputs": [
    {
     "data": {
      "text/plain": [
       "[]"
      ]
     },
     "execution_count": 13,
     "metadata": {},
     "output_type": "execute_result"
    }
   ],
   "source": [
    "time=[]\n",
    "\n",
    "for i in soup2.find_all('h5',class_=\"text-right ng-binding\"):\n",
    "    time.append(i.text)\n",
    "\n",
    "time"
   ]
  },
  {
   "cell_type": "markdown",
   "id": "0aac92b6",
   "metadata": {},
   "source": [
    "### Scrapping Place"
   ]
  },
  {
   "cell_type": "code",
   "execution_count": 14,
   "id": "1f924bbe",
   "metadata": {},
   "outputs": [
    {
     "data": {
      "text/plain": [
       "[]"
      ]
     },
     "execution_count": 14,
     "metadata": {},
     "output_type": "execute_result"
    }
   ],
   "source": [
    "place=[]\n",
    "\n",
    "for i in soup2.find_all('span',class_=\"ng-binding ng-scope\"):\n",
    "    place.append(i.text)\n",
    "\n",
    "place"
   ]
  },
  {
   "cell_type": "markdown",
   "id": "080a0687",
   "metadata": {},
   "source": [
    "### Scrapping Title"
   ]
  },
  {
   "cell_type": "code",
   "execution_count": 15,
   "id": "fef92591",
   "metadata": {},
   "outputs": [
    {
     "data": {
      "text/plain": [
       "[]"
      ]
     },
     "execution_count": 15,
     "metadata": {},
     "output_type": "execute_result"
    }
   ],
   "source": [
    "title=[]\n",
    "\n",
    "for i in soup2.find_all('span',class_=\"matchOrderText ng-binding ng-scope\"):\n",
    "    title.append(i.text)\n",
    "\n",
    "title"
   ]
  },
  {
   "cell_type": "markdown",
   "id": "9ac93e8c",
   "metadata": {},
   "source": [
    "# Q3."
   ]
  },
  {
   "cell_type": "code",
   "execution_count": 16,
   "id": "c0bc0bce",
   "metadata": {},
   "outputs": [],
   "source": [
    "#Lets first connect to the driver\n",
    "driver=webdriver.Chrome(r'C:\\Users\\kashr\\Downloads\\chromedriver_win32 (2)\\chromedriver.exe')"
   ]
  },
  {
   "cell_type": "code",
   "execution_count": 17,
   "id": "a6068d20",
   "metadata": {},
   "outputs": [],
   "source": [
    "driver.maximize_window()"
   ]
  },
  {
   "cell_type": "code",
   "execution_count": 18,
   "id": "45b1d094",
   "metadata": {},
   "outputs": [],
   "source": [
    "url='https://www.guru99.com/'\n",
    "driver.get(url)"
   ]
  },
  {
   "cell_type": "markdown",
   "id": "8890f98e",
   "metadata": {},
   "source": [
    "# Q4"
   ]
  },
  {
   "cell_type": "code",
   "execution_count": 19,
   "id": "de93e17e",
   "metadata": {},
   "outputs": [],
   "source": [
    "url='https://www.statisticstimes.com/economy/india/indian-states-gdp.php'\n",
    "driver.get(url)"
   ]
  },
  {
   "cell_type": "markdown",
   "id": "8a31d63c",
   "metadata": {},
   "source": [
    "### State"
   ]
  },
  {
   "cell_type": "code",
   "execution_count": 20,
   "id": "89eff389",
   "metadata": {},
   "outputs": [
    {
     "data": {
      "text/plain": [
       "['Maharashtra',\n",
       " 'Tamil Nadu',\n",
       " 'Uttar Pradesh',\n",
       " 'Gujarat',\n",
       " 'Karnataka',\n",
       " 'West Bengal',\n",
       " 'Rajasthan',\n",
       " 'Andhra Pradesh',\n",
       " 'Telangana',\n",
       " 'Madhya Pradesh',\n",
       " 'Kerala',\n",
       " 'Delhi',\n",
       " 'Haryana',\n",
       " 'Bihar',\n",
       " 'Punjab',\n",
       " 'Odisha',\n",
       " 'Assam',\n",
       " 'Chhattisgarh',\n",
       " 'Jharkhand',\n",
       " 'Uttarakhand',\n",
       " 'Jammu & Kashmir',\n",
       " 'Himachal Pradesh',\n",
       " 'Goa',\n",
       " 'Tripura',\n",
       " 'Chandigarh',\n",
       " 'Puducherry',\n",
       " 'Meghalaya',\n",
       " 'Sikkim',\n",
       " 'Manipur',\n",
       " 'Nagaland',\n",
       " 'Arunachal Pradesh',\n",
       " 'Mizoram',\n",
       " 'Andaman & Nicobar Islands',\n",
       " 'India',\n",
       " 'Maharashtra',\n",
       " 'Tamil Nadu',\n",
       " 'Uttar Pradesh',\n",
       " 'Karnataka',\n",
       " 'Gujarat',\n",
       " 'West Bengal',\n",
       " 'Rajasthan',\n",
       " 'Telangana',\n",
       " 'Andhra Pradesh',\n",
       " 'Madhya Pradesh',\n",
       " 'Kerala',\n",
       " 'Delhi',\n",
       " 'Haryana',\n",
       " 'Bihar',\n",
       " 'Punjab',\n",
       " 'Odisha',\n",
       " 'Assam',\n",
       " 'Jharkhand',\n",
       " 'Chhattisgarh',\n",
       " 'Uttarakhand',\n",
       " 'Himachal Pradesh',\n",
       " 'Jammu & Kashmir',\n",
       " 'Goa',\n",
       " 'Tripura',\n",
       " 'Chandigarh',\n",
       " 'Puducherry',\n",
       " 'Meghalaya',\n",
       " 'Manipur',\n",
       " 'Sikkim',\n",
       " 'Nagaland',\n",
       " 'Arunachal Pradesh',\n",
       " 'Mizoram',\n",
       " 'Andaman & Nicobar Islands',\n",
       " 'India']"
      ]
     },
     "execution_count": 20,
     "metadata": {},
     "output_type": "execute_result"
    }
   ],
   "source": [
    "state=[]\n",
    "state_tags=driver.find_elements(By.XPATH,'//td[@class=\"name\"]')\n",
    "for i in state_tags:\n",
    "    state.append(i.text)\n",
    "state"
   ]
  },
  {
   "cell_type": "markdown",
   "id": "09ad02ad",
   "metadata": {},
   "source": [
    "### Rank"
   ]
  },
  {
   "cell_type": "code",
   "execution_count": 21,
   "id": "aca310ce",
   "metadata": {},
   "outputs": [],
   "source": [
    "rank=[]\n",
    "rank_tags=driver.find_elements(By.XPATH,'//td[@class=\"data1\"]')\n",
    "for i in rank_tags:\n",
    "    rank.append(i.text)\n",
    "rank=rank[:62]"
   ]
  },
  {
   "cell_type": "markdown",
   "id": "5aa4bd5f",
   "metadata": {},
   "source": [
    "### GSDP(19-20)- at current price"
   ]
  },
  {
   "cell_type": "code",
   "execution_count": 22,
   "id": "27c46a0d",
   "metadata": {},
   "outputs": [],
   "source": [
    "gsdp_18_19=[]\n",
    "gsdp_18_19_tags=driver.find_elements(By.XPATH,'//td[@class=\"data\"]')\n",
    "for i in gsdp_18_19_tags:\n",
    "    gsdp_18_19.append(i.text)\n",
    "gsdp_18_19=gsdp_18_19[:62]"
   ]
  },
  {
   "cell_type": "markdown",
   "id": "9a075e04",
   "metadata": {},
   "source": [
    "### GSDP(18-19)- at current price"
   ]
  },
  {
   "cell_type": "code",
   "execution_count": 23,
   "id": "f2d0ef55",
   "metadata": {},
   "outputs": [],
   "source": [
    "gsdp_19_20=[]\n",
    "gsdp_19_20_tags=driver.find_elements(By.XPATH,'//td[@class=\"data sorting_1\"]')\n",
    "for i in gsdp_19_20_tags:\n",
    "    gsdp_19_20.append(i.text)\n",
    "gsdp_19_20=gsdp_19_20[:62]"
   ]
  },
  {
   "cell_type": "markdown",
   "id": "3b3f01e9",
   "metadata": {},
   "source": [
    "### Scrapping Share(18-19)"
   ]
  },
  {
   "cell_type": "code",
   "execution_count": 24,
   "id": "6ae7b983",
   "metadata": {},
   "outputs": [
    {
     "data": {
      "text/plain": [
       "['13.94%',\n",
       " '8.63%',\n",
       " '8.39%',\n",
       " '7.96%',\n",
       " '7.91%',\n",
       " '5.77%',\n",
       " '4.99%',\n",
       " '4.57%',\n",
       " '4.56%',\n",
       " '4.29%',\n",
       " '4.14%',\n",
       " '4.10%',\n",
       " '3.89%',\n",
       " '2.81%',\n",
       " '2.79%',\n",
       " '2.58%',\n",
       " '1.67%',\n",
       " '1.61%',\n",
       " '1.57%',\n",
       " '1.30%',\n",
       " '0.83%',\n",
       " '0.81%',\n",
       " '0.39%',\n",
       " '0.26%',\n",
       " '0.22%',\n",
       " '0.18%',\n",
       " '0.18%',\n",
       " '0.15%',\n",
       " '0.15%',\n",
       " '0.14%',\n",
       " '0.13%',\n",
       " '0.12%',\n",
       " '-',\n",
       " '18,886,957',\n",
       " '-',\n",
       " '8.77%',\n",
       " '1,015,735',\n",
       " '976,948',\n",
       " '1,150,711',\n",
       " '5.06%',\n",
       " '594,806',\n",
       " '550,584',\n",
       " '-',\n",
       " '4.22%',\n",
       " '514,983',\n",
       " '340,512',\n",
       " '457,757',\n",
       " '1.69%',\n",
       " '218,232',\n",
       " '200,453',\n",
       " '143,063',\n",
       " '0.78%',\n",
       " '56,810',\n",
       " '32,830',\n",
       " '34,823',\n",
       " '0.18%',\n",
       " '18,549',\n",
       " '15,972',\n",
       " '-',\n",
       " '0.13%',\n",
       " '-',\n",
       " '12,681,246']"
      ]
     },
     "execution_count": 24,
     "metadata": {},
     "output_type": "execute_result"
    }
   ],
   "source": [
    "share=[]\n",
    "share_tags=driver.find_elements(By.XPATH,'//td[@class=\"data\"]')\n",
    "for i in share_tags:\n",
    "    share.append(i.text)\n",
    "share=share[1::5]\n",
    "share"
   ]
  },
  {
   "cell_type": "markdown",
   "id": "a8b9dbc8",
   "metadata": {},
   "source": [
    "### GDP(Billion)"
   ]
  },
  {
   "cell_type": "code",
   "execution_count": 25,
   "id": "ee2d9b6d",
   "metadata": {},
   "outputs": [
    {
     "data": {
      "text/plain": [
       "['399.921',\n",
       " '247.629',\n",
       " '240.726',\n",
       " '228.290',\n",
       " '226.806',\n",
       " '165.556',\n",
       " '143.179',\n",
       " '131.083',\n",
       " '130.791',\n",
       " '122.977',\n",
       " '118.733',\n",
       " '117.703',\n",
       " '111.519',\n",
       " '80.562',\n",
       " '79.957',\n",
       " '74.098',\n",
       " '47.982',\n",
       " '46.187',\n",
       " '45.145',\n",
       " '37.351',\n",
       " '23.690',\n",
       " '23.369',\n",
       " '11.115',\n",
       " '7.571',\n",
       " '6.397',\n",
       " '5.230',\n",
       " '5.086',\n",
       " '4.363',\n",
       " '4.233',\n",
       " '4.144',\n",
       " '3.737',\n",
       " '3.385',\n",
       " '-',\n",
       " '',\n",
       " '13.97%',\n",
       " '1,167,776',\n",
       " '979,159',\n",
       " '-',\n",
       " '5.96%',\n",
       " '630,693',\n",
       " '549,481',\n",
       " '827,019',\n",
       " '4.24%',\n",
       " '568,265',\n",
       " '477,834',\n",
       " '517,521',\n",
       " '2.56%',\n",
       " '-',\n",
       " '204,423',\n",
       " '-',\n",
       " '0.80%',\n",
       " '-',\n",
       " '51,878',\n",
       " '-',\n",
       " '0.19%',\n",
       " '23,564',\n",
       " '17,228',\n",
       " '-',\n",
       " '0.13%',\n",
       " '17,797',\n",
       " '-',\n",
       " '12,240,380']"
      ]
     },
     "execution_count": 25,
     "metadata": {},
     "output_type": "execute_result"
    }
   ],
   "source": [
    "gdp=[]\n",
    "gdp_tags=driver.find_elements(By.XPATH,'//td[@class=\"data\"]')\n",
    "for i in gdp_tags:\n",
    "    gdp.append(i.text)\n",
    "gdp=gdp[2::5]\n",
    "gdp"
   ]
  },
  {
   "cell_type": "code",
   "execution_count": 26,
   "id": "e24ded31",
   "metadata": {},
   "outputs": [
    {
     "name": "stdout",
     "output_type": "stream",
     "text": [
      "62\n",
      "62\n",
      "62\n",
      "62\n",
      "62\n"
     ]
    }
   ],
   "source": [
    "print(len(gdp))\n",
    "print(len(share))\n",
    "print(len(gsdp_18_19))\n",
    "print(len(gsdp_19_20))\n",
    "print(len(rank))"
   ]
  },
  {
   "cell_type": "code",
   "execution_count": 27,
   "id": "89d1b9ea",
   "metadata": {},
   "outputs": [
    {
     "data": {
      "text/html": [
       "<div>\n",
       "<style scoped>\n",
       "    .dataframe tbody tr th:only-of-type {\n",
       "        vertical-align: middle;\n",
       "    }\n",
       "\n",
       "    .dataframe tbody tr th {\n",
       "        vertical-align: top;\n",
       "    }\n",
       "\n",
       "    .dataframe thead th {\n",
       "        text-align: right;\n",
       "    }\n",
       "</style>\n",
       "<table border=\"1\" class=\"dataframe\">\n",
       "  <thead>\n",
       "    <tr style=\"text-align: right;\">\n",
       "      <th></th>\n",
       "      <th>Rank</th>\n",
       "      <th>GSDP_19_20</th>\n",
       "      <th>GSDP_18_19</th>\n",
       "      <th>GDP</th>\n",
       "      <th>Share</th>\n",
       "    </tr>\n",
       "  </thead>\n",
       "  <tbody>\n",
       "    <tr>\n",
       "      <th>0</th>\n",
       "      <td>1</td>\n",
       "      <td>-</td>\n",
       "      <td>2,632,792</td>\n",
       "      <td>399.921</td>\n",
       "      <td>13.94%</td>\n",
       "    </tr>\n",
       "    <tr>\n",
       "      <th>1</th>\n",
       "      <td>2</td>\n",
       "      <td>13.94%</td>\n",
       "      <td>1,630,208</td>\n",
       "      <td>247.629</td>\n",
       "      <td>8.63%</td>\n",
       "    </tr>\n",
       "    <tr>\n",
       "      <th>2</th>\n",
       "      <td>3</td>\n",
       "      <td>399.921</td>\n",
       "      <td>1,584,764</td>\n",
       "      <td>240.726</td>\n",
       "      <td>8.39%</td>\n",
       "    </tr>\n",
       "    <tr>\n",
       "      <th>3</th>\n",
       "      <td>4</td>\n",
       "      <td>-</td>\n",
       "      <td>1,502,899</td>\n",
       "      <td>228.290</td>\n",
       "      <td>7.96%</td>\n",
       "    </tr>\n",
       "    <tr>\n",
       "      <th>4</th>\n",
       "      <td>5</td>\n",
       "      <td>2,039,074</td>\n",
       "      <td>1,493,127</td>\n",
       "      <td>226.806</td>\n",
       "      <td>7.91%</td>\n",
       "    </tr>\n",
       "    <tr>\n",
       "      <th>...</th>\n",
       "      <td>...</td>\n",
       "      <td>...</td>\n",
       "      <td>...</td>\n",
       "      <td>...</td>\n",
       "      <td>...</td>\n",
       "    </tr>\n",
       "    <tr>\n",
       "      <th>57</th>\n",
       "      <td>24</td>\n",
       "      <td>117.703</td>\n",
       "      <td>37,571</td>\n",
       "      <td>-</td>\n",
       "      <td>15,972</td>\n",
       "    </tr>\n",
       "    <tr>\n",
       "      <th>58</th>\n",
       "      <td>25</td>\n",
       "      <td>634,408</td>\n",
       "      <td>31,415</td>\n",
       "      <td>0.13%</td>\n",
       "      <td>-</td>\n",
       "    </tr>\n",
       "    <tr>\n",
       "      <th>59</th>\n",
       "      <td>26</td>\n",
       "      <td>590,569</td>\n",
       "      <td>29,544</td>\n",
       "      <td>17,797</td>\n",
       "      <td>0.13%</td>\n",
       "    </tr>\n",
       "    <tr>\n",
       "      <th>60</th>\n",
       "      <td>27</td>\n",
       "      <td>831,610</td>\n",
       "      <td>25,323</td>\n",
       "      <td>-</td>\n",
       "      <td>-</td>\n",
       "    </tr>\n",
       "    <tr>\n",
       "      <th>61</th>\n",
       "      <td>28</td>\n",
       "      <td>3.89%</td>\n",
       "      <td>25,141</td>\n",
       "      <td>12,240,380</td>\n",
       "      <td>12,681,246</td>\n",
       "    </tr>\n",
       "  </tbody>\n",
       "</table>\n",
       "<p>62 rows × 5 columns</p>\n",
       "</div>"
      ],
      "text/plain": [
       "   Rank GSDP_19_20 GSDP_18_19         GDP       Share\n",
       "0     1          -  2,632,792     399.921      13.94%\n",
       "1     2     13.94%  1,630,208     247.629       8.63%\n",
       "2     3    399.921  1,584,764     240.726       8.39%\n",
       "3     4          -  1,502,899     228.290       7.96%\n",
       "4     5  2,039,074  1,493,127     226.806       7.91%\n",
       "..  ...        ...        ...         ...         ...\n",
       "57   24    117.703     37,571           -      15,972\n",
       "58   25    634,408     31,415       0.13%           -\n",
       "59   26    590,569     29,544      17,797       0.13%\n",
       "60   27    831,610     25,323           -           -\n",
       "61   28      3.89%     25,141  12,240,380  12,681,246\n",
       "\n",
       "[62 rows x 5 columns]"
      ]
     },
     "execution_count": 27,
     "metadata": {},
     "output_type": "execute_result"
    }
   ],
   "source": [
    "df=pd.DataFrame({\"Rank\":rank,'GSDP_19_20':gsdp_18_19,'GSDP_18_19':gsdp_19_20,'GDP':gdp,'Share':share})\n",
    "df"
   ]
  },
  {
   "cell_type": "markdown",
   "id": "b7c9549a",
   "metadata": {},
   "source": [
    "# Q5"
   ]
  },
  {
   "cell_type": "code",
   "execution_count": 28,
   "id": "dbede223",
   "metadata": {},
   "outputs": [],
   "source": [
    "url='https://github.com/trending'\n",
    "driver.get(url)"
   ]
  },
  {
   "cell_type": "markdown",
   "id": "c61cfea5",
   "metadata": {},
   "source": [
    "### Title"
   ]
  },
  {
   "cell_type": "code",
   "execution_count": 29,
   "id": "90bc416f",
   "metadata": {},
   "outputs": [
    {
     "data": {
      "text/plain": [
       "'bytedance /'"
      ]
     },
     "execution_count": 29,
     "metadata": {},
     "output_type": "execute_result"
    }
   ],
   "source": [
    "title=[]\n",
    "title_tags=driver.find_elements(By.XPATH,'//span[@class=\"text-normal\"]')\n",
    "for i in title_tags:\n",
    "    title.append(i.text)\n",
    "title.pop()\n",
    "title.pop()"
   ]
  },
  {
   "cell_type": "markdown",
   "id": "6760b55f",
   "metadata": {},
   "source": [
    "### Description"
   ]
  },
  {
   "cell_type": "code",
   "execution_count": 30,
   "id": "1cc598a1",
   "metadata": {},
   "outputs": [
    {
     "data": {
      "text/plain": [
       "'A fast JSON serializing & deserializing library, accelerated by SIMD.'"
      ]
     },
     "execution_count": 30,
     "metadata": {},
     "output_type": "execute_result"
    }
   ],
   "source": [
    "description=[]\n",
    "description_tags=driver.find_elements(By.XPATH,'//p[@class=\"col-9 color-fg-muted my-1 pr-4\"]')\n",
    "for i in description_tags:\n",
    "    description.append(i.text)\n",
    "description\n",
    "len(description)\n",
    "description.pop()\n",
    "description.pop()"
   ]
  },
  {
   "cell_type": "markdown",
   "id": "301a7734",
   "metadata": {},
   "source": [
    "### Language"
   ]
  },
  {
   "cell_type": "code",
   "execution_count": 31,
   "id": "d6fb6346",
   "metadata": {},
   "outputs": [
    {
     "data": {
      "text/plain": [
       "23"
      ]
     },
     "execution_count": 31,
     "metadata": {},
     "output_type": "execute_result"
    }
   ],
   "source": [
    "language=[]\n",
    "language_tags=driver.find_elements(By.XPATH,'//span[@class=\"d-inline-block ml-0 mr-3\"]')\n",
    "for i in language_tags:\n",
    "    language.append(i.text)\n",
    "language\n",
    "len(language)"
   ]
  },
  {
   "cell_type": "markdown",
   "id": "1f5a761d",
   "metadata": {},
   "source": [
    "### Contributors Count"
   ]
  },
  {
   "cell_type": "code",
   "execution_count": 32,
   "id": "1695900d",
   "metadata": {},
   "outputs": [
    {
     "data": {
      "text/plain": [
       "23"
      ]
     },
     "execution_count": 32,
     "metadata": {},
     "output_type": "execute_result"
    }
   ],
   "source": [
    "contributors=[]\n",
    "contributors_tags=driver.find_elements(By.XPATH,'//a[@class=\"Link--muted d-inline-block mr-3\"]')\n",
    "for i in contributors_tags:\n",
    "    contributors.append(i.text)\n",
    "contributors=contributors[1::2]\n",
    "contributors.pop()\n",
    "contributors.pop()\n",
    "len(contributors)\n"
   ]
  },
  {
   "cell_type": "code",
   "execution_count": 33,
   "id": "a89a3553",
   "metadata": {},
   "outputs": [
    {
     "data": {
      "text/html": [
       "<div>\n",
       "<style scoped>\n",
       "    .dataframe tbody tr th:only-of-type {\n",
       "        vertical-align: middle;\n",
       "    }\n",
       "\n",
       "    .dataframe tbody tr th {\n",
       "        vertical-align: top;\n",
       "    }\n",
       "\n",
       "    .dataframe thead th {\n",
       "        text-align: right;\n",
       "    }\n",
       "</style>\n",
       "<table border=\"1\" class=\"dataframe\">\n",
       "  <thead>\n",
       "    <tr style=\"text-align: right;\">\n",
       "      <th></th>\n",
       "      <th>Title</th>\n",
       "      <th>Description</th>\n",
       "      <th>Language</th>\n",
       "      <th>Contributors_count</th>\n",
       "    </tr>\n",
       "  </thead>\n",
       "  <tbody>\n",
       "    <tr>\n",
       "      <th>0</th>\n",
       "      <td>fuergaosi233 /</td>\n",
       "      <td>Use ChatGPT On Wechat via wechaty</td>\n",
       "      <td>TypeScript</td>\n",
       "      <td>391</td>\n",
       "    </tr>\n",
       "    <tr>\n",
       "      <th>1</th>\n",
       "      <td>869413421 /</td>\n",
       "      <td>为个人微信接入ChatGPT</td>\n",
       "      <td>Go</td>\n",
       "      <td>98</td>\n",
       "    </tr>\n",
       "    <tr>\n",
       "      <th>2</th>\n",
       "      <td>exaloop /</td>\n",
       "      <td>A high-performance, zero-overhead, extensible ...</td>\n",
       "      <td>C++</td>\n",
       "      <td>31</td>\n",
       "    </tr>\n",
       "    <tr>\n",
       "      <th>3</th>\n",
       "      <td>doocs /</td>\n",
       "      <td>😏 LeetCode solutions in any programming langua...</td>\n",
       "      <td>Java</td>\n",
       "      <td>3,471</td>\n",
       "    </tr>\n",
       "    <tr>\n",
       "      <th>4</th>\n",
       "      <td>teaxyz /</td>\n",
       "      <td>the unified package manager (brew2)</td>\n",
       "      <td>TypeScript</td>\n",
       "      <td>139</td>\n",
       "    </tr>\n",
       "    <tr>\n",
       "      <th>5</th>\n",
       "      <td>Tencent /</td>\n",
       "      <td>Hippy is designed to easily build cross-platfo...</td>\n",
       "      <td>C++</td>\n",
       "      <td>858</td>\n",
       "    </tr>\n",
       "    <tr>\n",
       "      <th>6</th>\n",
       "      <td>cloneofsimo /</td>\n",
       "      <td>Using Low-rank adaptation to quickly fine-tune...</td>\n",
       "      <td>Jupyter Notebook</td>\n",
       "      <td>14</td>\n",
       "    </tr>\n",
       "    <tr>\n",
       "      <th>7</th>\n",
       "      <td>AutumnWhj /</td>\n",
       "      <td>ChatGPT for wechat</td>\n",
       "      <td>TypeScript</td>\n",
       "      <td>85</td>\n",
       "    </tr>\n",
       "    <tr>\n",
       "      <th>8</th>\n",
       "      <td>PathOfBuildingCommunity /</td>\n",
       "      <td>Offline build planner for Path of Exile.</td>\n",
       "      <td>Lua</td>\n",
       "      <td>1,627</td>\n",
       "    </tr>\n",
       "    <tr>\n",
       "      <th>9</th>\n",
       "      <td>surrealdb /</td>\n",
       "      <td>A scalable, distributed, collaborative, docume...</td>\n",
       "      <td>Rust</td>\n",
       "      <td>377</td>\n",
       "    </tr>\n",
       "    <tr>\n",
       "      <th>10</th>\n",
       "      <td>gragland /</td>\n",
       "      <td>A ChatGPT Chrome extension. Integrates ChatGPT...</td>\n",
       "      <td>JavaScript</td>\n",
       "      <td>48</td>\n",
       "    </tr>\n",
       "    <tr>\n",
       "      <th>11</th>\n",
       "      <td>wangrongding /</td>\n",
       "      <td>🤖一个基于OpenAi ChatGPT + WeChaty 实现的微信机器人 可以用来帮助你...</td>\n",
       "      <td>JavaScript</td>\n",
       "      <td>33</td>\n",
       "    </tr>\n",
       "    <tr>\n",
       "      <th>12</th>\n",
       "      <td>mohammadpz /</td>\n",
       "      <td>Implementation of Hinton's forward-forward (FF...</td>\n",
       "      <td>Python</td>\n",
       "      <td>17</td>\n",
       "    </tr>\n",
       "    <tr>\n",
       "      <th>13</th>\n",
       "      <td>holbertonschool /</td>\n",
       "      <td>Holberton-style C code checker written in Perl</td>\n",
       "      <td>Perl</td>\n",
       "      <td>1,056</td>\n",
       "    </tr>\n",
       "    <tr>\n",
       "      <th>14</th>\n",
       "      <td>humanloop /</td>\n",
       "      <td>Curated list of awesome tools, demos, docs for...</td>\n",
       "      <td>Python</td>\n",
       "      <td>24</td>\n",
       "    </tr>\n",
       "    <tr>\n",
       "      <th>15</th>\n",
       "      <td>rawandahmad698 /</td>\n",
       "      <td>⚡️ Python client for the unofficial ChatGPT AP...</td>\n",
       "      <td>JavaScript</td>\n",
       "      <td>122</td>\n",
       "    </tr>\n",
       "    <tr>\n",
       "      <th>16</th>\n",
       "      <td>pulsar-edit /</td>\n",
       "      <td>A Community-led Hyper-Hackable Text Editor</td>\n",
       "      <td>Python</td>\n",
       "      <td>27</td>\n",
       "    </tr>\n",
       "    <tr>\n",
       "      <th>17</th>\n",
       "      <td>bupticybee /</td>\n",
       "      <td>中文版的ai地牢，直接使用的openai的ChatGPT api作为讲故事的模型。</td>\n",
       "      <td>JavaScript</td>\n",
       "      <td>39</td>\n",
       "    </tr>\n",
       "    <tr>\n",
       "      <th>18</th>\n",
       "      <td>f /</td>\n",
       "      <td>This repo includes ChatGPT promt curation to u...</td>\n",
       "      <td>C++</td>\n",
       "      <td>52</td>\n",
       "    </tr>\n",
       "    <tr>\n",
       "      <th>19</th>\n",
       "      <td>louislam /</td>\n",
       "      <td>A fancy self-hosted monitoring tool</td>\n",
       "      <td>Python</td>\n",
       "      <td>2,065</td>\n",
       "    </tr>\n",
       "    <tr>\n",
       "      <th>20</th>\n",
       "      <td>pichenettes /</td>\n",
       "      <td>Eurorack modules</td>\n",
       "      <td>C</td>\n",
       "      <td>555</td>\n",
       "    </tr>\n",
       "    <tr>\n",
       "      <th>21</th>\n",
       "      <td>acheong08 /</td>\n",
       "      <td>Lightweight package for interacting with ChatG...</td>\n",
       "      <td>C++</td>\n",
       "      <td>530</td>\n",
       "    </tr>\n",
       "    <tr>\n",
       "      <th>22</th>\n",
       "      <td>paradigmxyz /</td>\n",
       "      <td>Modular, contributor-friendly and blazing-fast...</td>\n",
       "      <td>Solidity</td>\n",
       "      <td>38</td>\n",
       "    </tr>\n",
       "  </tbody>\n",
       "</table>\n",
       "</div>"
      ],
      "text/plain": [
       "                        Title  \\\n",
       "0              fuergaosi233 /   \n",
       "1                 869413421 /   \n",
       "2                   exaloop /   \n",
       "3                     doocs /   \n",
       "4                    teaxyz /   \n",
       "5                   Tencent /   \n",
       "6               cloneofsimo /   \n",
       "7                 AutumnWhj /   \n",
       "8   PathOfBuildingCommunity /   \n",
       "9                 surrealdb /   \n",
       "10                 gragland /   \n",
       "11             wangrongding /   \n",
       "12               mohammadpz /   \n",
       "13          holbertonschool /   \n",
       "14                humanloop /   \n",
       "15           rawandahmad698 /   \n",
       "16              pulsar-edit /   \n",
       "17               bupticybee /   \n",
       "18                        f /   \n",
       "19                 louislam /   \n",
       "20              pichenettes /   \n",
       "21                acheong08 /   \n",
       "22              paradigmxyz /   \n",
       "\n",
       "                                          Description          Language  \\\n",
       "0                   Use ChatGPT On Wechat via wechaty        TypeScript   \n",
       "1                                      为个人微信接入ChatGPT                Go   \n",
       "2   A high-performance, zero-overhead, extensible ...               C++   \n",
       "3   😏 LeetCode solutions in any programming langua...              Java   \n",
       "4                 the unified package manager (brew2)        TypeScript   \n",
       "5   Hippy is designed to easily build cross-platfo...               C++   \n",
       "6   Using Low-rank adaptation to quickly fine-tune...  Jupyter Notebook   \n",
       "7                                  ChatGPT for wechat        TypeScript   \n",
       "8            Offline build planner for Path of Exile.               Lua   \n",
       "9   A scalable, distributed, collaborative, docume...              Rust   \n",
       "10  A ChatGPT Chrome extension. Integrates ChatGPT...        JavaScript   \n",
       "11  🤖一个基于OpenAi ChatGPT + WeChaty 实现的微信机器人 可以用来帮助你...        JavaScript   \n",
       "12  Implementation of Hinton's forward-forward (FF...            Python   \n",
       "13     Holberton-style C code checker written in Perl              Perl   \n",
       "14  Curated list of awesome tools, demos, docs for...            Python   \n",
       "15  ⚡️ Python client for the unofficial ChatGPT AP...        JavaScript   \n",
       "16         A Community-led Hyper-Hackable Text Editor            Python   \n",
       "17          中文版的ai地牢，直接使用的openai的ChatGPT api作为讲故事的模型。        JavaScript   \n",
       "18  This repo includes ChatGPT promt curation to u...               C++   \n",
       "19                A fancy self-hosted monitoring tool            Python   \n",
       "20                                   Eurorack modules                 C   \n",
       "21  Lightweight package for interacting with ChatG...               C++   \n",
       "22  Modular, contributor-friendly and blazing-fast...          Solidity   \n",
       "\n",
       "   Contributors_count  \n",
       "0                 391  \n",
       "1                  98  \n",
       "2                  31  \n",
       "3               3,471  \n",
       "4                 139  \n",
       "5                 858  \n",
       "6                  14  \n",
       "7                  85  \n",
       "8               1,627  \n",
       "9                 377  \n",
       "10                 48  \n",
       "11                 33  \n",
       "12                 17  \n",
       "13              1,056  \n",
       "14                 24  \n",
       "15                122  \n",
       "16                 27  \n",
       "17                 39  \n",
       "18                 52  \n",
       "19              2,065  \n",
       "20                555  \n",
       "21                530  \n",
       "22                 38  "
      ]
     },
     "execution_count": 33,
     "metadata": {},
     "output_type": "execute_result"
    }
   ],
   "source": [
    "df=pd.DataFrame({'Title':title,'Description':description,'Language':language,'Contributors_count':contributors})\n",
    "df"
   ]
  },
  {
   "cell_type": "markdown",
   "id": "485400ff",
   "metadata": {},
   "source": [
    "# Q6"
   ]
  },
  {
   "cell_type": "code",
   "execution_count": 34,
   "id": "f7d3bcd2",
   "metadata": {},
   "outputs": [],
   "source": [
    "url='https://www.billboard.com/'\n",
    "driver.get(url)"
   ]
  },
  {
   "cell_type": "code",
   "execution_count": 35,
   "id": "ebf46a3c",
   "metadata": {},
   "outputs": [
    {
     "ename": "StaleElementReferenceException",
     "evalue": "Message: stale element reference: element is not attached to the page document\n  (Session info: chrome=108.0.5359.99)\nStacktrace:\nBacktrace:\n\tOrdinal0 [0x008EACD3+2075859]\n\tOrdinal0 [0x0087EE61+1633889]\n\tOrdinal0 [0x0077B7BD+571325]\n\tOrdinal0 [0x0077E374+582516]\n\tOrdinal0 [0x0077E225+582181]\n\tOrdinal0 [0x0077E4C0+582848]\n\tOrdinal0 [0x007A6847+747591]\n\tOrdinal0 [0x007C731C+881436]\n\tOrdinal0 [0x007A15BF+726463]\n\tOrdinal0 [0x007C7534+881972]\n\tOrdinal0 [0x007DB56A+963946]\n\tOrdinal0 [0x007C7136+880950]\n\tOrdinal0 [0x0079FEFD+720637]\n\tOrdinal0 [0x007A0F3F+724799]\n\tGetHandleVerifier [0x00B9EED2+2769538]\n\tGetHandleVerifier [0x00B90D95+2711877]\n\tGetHandleVerifier [0x0097A03A+521194]\n\tGetHandleVerifier [0x00978DA0+516432]\n\tOrdinal0 [0x0088682C+1665068]\n\tOrdinal0 [0x0088B128+1683752]\n\tOrdinal0 [0x0088B215+1683989]\n\tOrdinal0 [0x00896484+1729668]\n\tBaseThreadInitThunk [0x7652FEF9+25]\n\tRtlGetAppContainerNamedObjectPath [0x77A07BBE+286]\n\tRtlGetAppContainerNamedObjectPath [0x77A07B8E+238]\n",
     "output_type": "error",
     "traceback": [
      "\u001b[1;31m---------------------------------------------------------------------------\u001b[0m",
      "\u001b[1;31mStaleElementReferenceException\u001b[0m            Traceback (most recent call last)",
      "Input \u001b[1;32mIn [35]\u001b[0m, in \u001b[0;36m<cell line: 3>\u001b[1;34m()\u001b[0m\n\u001b[0;32m      2\u001b[0m song_tags\u001b[38;5;241m=\u001b[39mdriver\u001b[38;5;241m.\u001b[39mfind_elements(By\u001b[38;5;241m.\u001b[39mXPATH,\u001b[38;5;124m'\u001b[39m\u001b[38;5;124m//a[@class=\u001b[39m\u001b[38;5;124m\"\u001b[39m\u001b[38;5;124mLink--muted d-inline-block mr-3\u001b[39m\u001b[38;5;124m\"\u001b[39m\u001b[38;5;124m]\u001b[39m\u001b[38;5;124m'\u001b[39m)\n\u001b[0;32m      3\u001b[0m \u001b[38;5;28;01mfor\u001b[39;00m i \u001b[38;5;129;01min\u001b[39;00m contributors_tags:\n\u001b[1;32m----> 4\u001b[0m     contributors\u001b[38;5;241m.\u001b[39mappend(\u001b[43mi\u001b[49m\u001b[38;5;241;43m.\u001b[39;49m\u001b[43mtext\u001b[49m)\n\u001b[0;32m      5\u001b[0m contributors\n",
      "File \u001b[1;32m~\\anaconda3\\lib\\site-packages\\selenium\\webdriver\\remote\\webelement.py:84\u001b[0m, in \u001b[0;36mWebElement.text\u001b[1;34m(self)\u001b[0m\n\u001b[0;32m     81\u001b[0m \u001b[38;5;129m@property\u001b[39m\n\u001b[0;32m     82\u001b[0m \u001b[38;5;28;01mdef\u001b[39;00m \u001b[38;5;21mtext\u001b[39m(\u001b[38;5;28mself\u001b[39m) \u001b[38;5;241m-\u001b[39m\u001b[38;5;241m>\u001b[39m \u001b[38;5;28mstr\u001b[39m:\n\u001b[0;32m     83\u001b[0m     \u001b[38;5;124;03m\"\"\"The text of the element.\"\"\"\u001b[39;00m\n\u001b[1;32m---> 84\u001b[0m     \u001b[38;5;28;01mreturn\u001b[39;00m \u001b[38;5;28;43mself\u001b[39;49m\u001b[38;5;241;43m.\u001b[39;49m\u001b[43m_execute\u001b[49m\u001b[43m(\u001b[49m\u001b[43mCommand\u001b[49m\u001b[38;5;241;43m.\u001b[39;49m\u001b[43mGET_ELEMENT_TEXT\u001b[49m\u001b[43m)\u001b[49m[\u001b[38;5;124m'\u001b[39m\u001b[38;5;124mvalue\u001b[39m\u001b[38;5;124m'\u001b[39m]\n",
      "File \u001b[1;32m~\\anaconda3\\lib\\site-packages\\selenium\\webdriver\\remote\\webelement.py:396\u001b[0m, in \u001b[0;36mWebElement._execute\u001b[1;34m(self, command, params)\u001b[0m\n\u001b[0;32m    394\u001b[0m     params \u001b[38;5;241m=\u001b[39m {}\n\u001b[0;32m    395\u001b[0m params[\u001b[38;5;124m'\u001b[39m\u001b[38;5;124mid\u001b[39m\u001b[38;5;124m'\u001b[39m] \u001b[38;5;241m=\u001b[39m \u001b[38;5;28mself\u001b[39m\u001b[38;5;241m.\u001b[39m_id\n\u001b[1;32m--> 396\u001b[0m \u001b[38;5;28;01mreturn\u001b[39;00m \u001b[38;5;28;43mself\u001b[39;49m\u001b[38;5;241;43m.\u001b[39;49m\u001b[43m_parent\u001b[49m\u001b[38;5;241;43m.\u001b[39;49m\u001b[43mexecute\u001b[49m\u001b[43m(\u001b[49m\u001b[43mcommand\u001b[49m\u001b[43m,\u001b[49m\u001b[43m \u001b[49m\u001b[43mparams\u001b[49m\u001b[43m)\u001b[49m\n",
      "File \u001b[1;32m~\\anaconda3\\lib\\site-packages\\selenium\\webdriver\\remote\\webdriver.py:429\u001b[0m, in \u001b[0;36mWebDriver.execute\u001b[1;34m(self, driver_command, params)\u001b[0m\n\u001b[0;32m    427\u001b[0m response \u001b[38;5;241m=\u001b[39m \u001b[38;5;28mself\u001b[39m\u001b[38;5;241m.\u001b[39mcommand_executor\u001b[38;5;241m.\u001b[39mexecute(driver_command, params)\n\u001b[0;32m    428\u001b[0m \u001b[38;5;28;01mif\u001b[39;00m response:\n\u001b[1;32m--> 429\u001b[0m     \u001b[38;5;28;43mself\u001b[39;49m\u001b[38;5;241;43m.\u001b[39;49m\u001b[43merror_handler\u001b[49m\u001b[38;5;241;43m.\u001b[39;49m\u001b[43mcheck_response\u001b[49m\u001b[43m(\u001b[49m\u001b[43mresponse\u001b[49m\u001b[43m)\u001b[49m\n\u001b[0;32m    430\u001b[0m     response[\u001b[38;5;124m'\u001b[39m\u001b[38;5;124mvalue\u001b[39m\u001b[38;5;124m'\u001b[39m] \u001b[38;5;241m=\u001b[39m \u001b[38;5;28mself\u001b[39m\u001b[38;5;241m.\u001b[39m_unwrap_value(\n\u001b[0;32m    431\u001b[0m         response\u001b[38;5;241m.\u001b[39mget(\u001b[38;5;124m'\u001b[39m\u001b[38;5;124mvalue\u001b[39m\u001b[38;5;124m'\u001b[39m, \u001b[38;5;28;01mNone\u001b[39;00m))\n\u001b[0;32m    432\u001b[0m     \u001b[38;5;28;01mreturn\u001b[39;00m response\n",
      "File \u001b[1;32m~\\anaconda3\\lib\\site-packages\\selenium\\webdriver\\remote\\errorhandler.py:243\u001b[0m, in \u001b[0;36mErrorHandler.check_response\u001b[1;34m(self, response)\u001b[0m\n\u001b[0;32m    241\u001b[0m         alert_text \u001b[38;5;241m=\u001b[39m value[\u001b[38;5;124m'\u001b[39m\u001b[38;5;124malert\u001b[39m\u001b[38;5;124m'\u001b[39m]\u001b[38;5;241m.\u001b[39mget(\u001b[38;5;124m'\u001b[39m\u001b[38;5;124mtext\u001b[39m\u001b[38;5;124m'\u001b[39m)\n\u001b[0;32m    242\u001b[0m     \u001b[38;5;28;01mraise\u001b[39;00m exception_class(message, screen, stacktrace, alert_text)  \u001b[38;5;66;03m# type: ignore[call-arg]  # mypy is not smart enough here\u001b[39;00m\n\u001b[1;32m--> 243\u001b[0m \u001b[38;5;28;01mraise\u001b[39;00m exception_class(message, screen, stacktrace)\n",
      "\u001b[1;31mStaleElementReferenceException\u001b[0m: Message: stale element reference: element is not attached to the page document\n  (Session info: chrome=108.0.5359.99)\nStacktrace:\nBacktrace:\n\tOrdinal0 [0x008EACD3+2075859]\n\tOrdinal0 [0x0087EE61+1633889]\n\tOrdinal0 [0x0077B7BD+571325]\n\tOrdinal0 [0x0077E374+582516]\n\tOrdinal0 [0x0077E225+582181]\n\tOrdinal0 [0x0077E4C0+582848]\n\tOrdinal0 [0x007A6847+747591]\n\tOrdinal0 [0x007C731C+881436]\n\tOrdinal0 [0x007A15BF+726463]\n\tOrdinal0 [0x007C7534+881972]\n\tOrdinal0 [0x007DB56A+963946]\n\tOrdinal0 [0x007C7136+880950]\n\tOrdinal0 [0x0079FEFD+720637]\n\tOrdinal0 [0x007A0F3F+724799]\n\tGetHandleVerifier [0x00B9EED2+2769538]\n\tGetHandleVerifier [0x00B90D95+2711877]\n\tGetHandleVerifier [0x0097A03A+521194]\n\tGetHandleVerifier [0x00978DA0+516432]\n\tOrdinal0 [0x0088682C+1665068]\n\tOrdinal0 [0x0088B128+1683752]\n\tOrdinal0 [0x0088B215+1683989]\n\tOrdinal0 [0x00896484+1729668]\n\tBaseThreadInitThunk [0x7652FEF9+25]\n\tRtlGetAppContainerNamedObjectPath [0x77A07BBE+286]\n\tRtlGetAppContainerNamedObjectPath [0x77A07B8E+238]\n"
     ]
    }
   ],
   "source": [
    "song=[]\n",
    "song_tags=driver.find_elements(By.XPATH,'//a[@class=\"Link--muted d-inline-block mr-3\"]')\n",
    "for i in contributors_tags:\n",
    "    contributors.append(i.text)\n",
    "contributors"
   ]
  },
  {
   "cell_type": "markdown",
   "id": "c3b49689",
   "metadata": {},
   "source": [
    "# Q7"
   ]
  },
  {
   "cell_type": "code",
   "execution_count": 36,
   "id": "7fe6ad69",
   "metadata": {},
   "outputs": [],
   "source": [
    "url1='https://www.naukri.com/'\n",
    "driver.get(url1)\n",
    "\n"
   ]
  },
  {
   "cell_type": "code",
   "execution_count": 37,
   "id": "2f46bd78",
   "metadata": {},
   "outputs": [],
   "source": [
    "search_job=driver.find_element(By.CLASS_NAME,\"suggestor-input\")\n",
    "search_job.send_keys(\"Data Scientist\")\n",
    "\n"
   ]
  },
  {
   "cell_type": "code",
   "execution_count": 38,
   "id": "a9c4e19f",
   "metadata": {},
   "outputs": [],
   "source": [
    "\n",
    "search_bttn1=driver.find_element(By.CLASS_NAME,'qsbSubmit')\n",
    "search_bttn1.click()"
   ]
  },
  {
   "cell_type": "code",
   "execution_count": 39,
   "id": "f1ec925c",
   "metadata": {},
   "outputs": [
    {
     "data": {
      "text/plain": [
       "[]"
      ]
     },
     "execution_count": 39,
     "metadata": {},
     "output_type": "execute_result"
    }
   ],
   "source": [
    "name=[]\n",
    "name_tags=driver.find_elements(By.XPATH,'//a[@class=\"subTitle ellipsis fleft\"]')\n",
    "for i in name_tags:\n",
    "    name.append(i.text)\n",
    "name"
   ]
  },
  {
   "cell_type": "code",
   "execution_count": 40,
   "id": "a5e2b927",
   "metadata": {},
   "outputs": [
    {
     "data": {
      "text/plain": [
       "[]"
      ]
     },
     "execution_count": 40,
     "metadata": {},
     "output_type": "execute_result"
    }
   ],
   "source": [
    "position=[]\n",
    "position_tags=driver.find_elements(By.XPATH,'//a[@class=\"title fw500 ellipsis\"]')\n",
    "for i in position_tags:\n",
    "    position.append(i.text)\n",
    "position"
   ]
  },
  {
   "cell_type": "code",
   "execution_count": 41,
   "id": "d8dc65a7",
   "metadata": {},
   "outputs": [
    {
     "data": {
      "text/plain": [
       "[]"
      ]
     },
     "execution_count": 41,
     "metadata": {},
     "output_type": "execute_result"
    }
   ],
   "source": [
    "position=[]\n",
    "position_tags=driver.find_elements(By.XPATH,'//a[@class=\"title fw500 ellipsis\"]')\n",
    "for i in position_tags:\n",
    "    position.append(i.text)\n",
    "position"
   ]
  },
  {
   "cell_type": "markdown",
   "id": "de0a5e9c",
   "metadata": {},
   "source": [
    "# Q9"
   ]
  },
  {
   "cell_type": "code",
   "execution_count": 42,
   "id": "e4980347",
   "metadata": {},
   "outputs": [
    {
     "data": {
      "text/plain": [
       "<Response [200]>"
      ]
     },
     "execution_count": 42,
     "metadata": {},
     "output_type": "execute_result"
    }
   ],
   "source": [
    "page=requests.get('https://www.imdb.com/list/ls095964455/')\n",
    "page"
   ]
  },
  {
   "cell_type": "code",
   "execution_count": 43,
   "id": "3d6f5d74",
   "metadata": {},
   "outputs": [],
   "source": [
    "soup=BeautifulSoup(page.content)\n"
   ]
  },
  {
   "cell_type": "code",
   "execution_count": 44,
   "id": "17217e3e",
   "metadata": {},
   "outputs": [
    {
     "data": {
      "text/plain": [
       "['Game of Thrones',\n",
       " 'Stranger Things',\n",
       " 'The Walking Dead',\n",
       " '13 Reasons Why',\n",
       " 'The 100',\n",
       " 'Orange Is the New Black',\n",
       " 'Riverdale',\n",
       " \"Grey's Anatomy\",\n",
       " 'The Flash',\n",
       " 'Arrow',\n",
       " 'La casa de papel',\n",
       " 'The Big Bang Theory',\n",
       " 'Black Mirror',\n",
       " 'Sherlock',\n",
       " 'Vikings',\n",
       " 'Pretty Little Liars',\n",
       " 'The Vampire Diaries',\n",
       " 'American Horror Story',\n",
       " 'Breaking Bad',\n",
       " 'Lucifer',\n",
       " 'Supernatural',\n",
       " 'Prison Break',\n",
       " 'How to Get Away with Murder',\n",
       " 'Teen Wolf',\n",
       " 'The Simpsons',\n",
       " 'Once Upon a Time',\n",
       " 'Narcos',\n",
       " 'Daredevil',\n",
       " 'Friends',\n",
       " 'How I Met Your Mother',\n",
       " 'Suits',\n",
       " 'Mr. Robot',\n",
       " 'The Originals',\n",
       " 'Supergirl',\n",
       " 'Gossip Girl',\n",
       " 'Sense8',\n",
       " 'Gotham',\n",
       " 'Westworld',\n",
       " 'Jessica Jones',\n",
       " 'Modern Family',\n",
       " 'Rick and Morty',\n",
       " 'Shadowhunters: The Mortal Instruments',\n",
       " 'The End of the F***ing World',\n",
       " 'House of Cards',\n",
       " 'Dark',\n",
       " 'Élite',\n",
       " 'Sex Education',\n",
       " 'Shameless',\n",
       " 'New Girl',\n",
       " 'Agents of S.H.I.E.L.D.',\n",
       " 'You',\n",
       " 'Dexter',\n",
       " 'Fear the Walking Dead',\n",
       " 'Family Guy',\n",
       " 'The Blacklist',\n",
       " 'Lost',\n",
       " 'Peaky Blinders',\n",
       " 'House M.D.',\n",
       " 'Quantico',\n",
       " 'Orphan Black',\n",
       " 'Homeland',\n",
       " 'Blindspot',\n",
       " 'Legends of Tomorrow',\n",
       " \"The Handmaid's Tale\",\n",
       " 'Chilling Adventures of Sabrina',\n",
       " 'The Good Doctor',\n",
       " 'Jane the Virgin',\n",
       " 'Glee',\n",
       " 'South Park',\n",
       " 'Brooklyn Nine-Nine',\n",
       " 'Under the Dome',\n",
       " 'The Umbrella Academy',\n",
       " 'True Detective',\n",
       " 'The OA',\n",
       " 'Desperate Housewives',\n",
       " 'Better Call Saul',\n",
       " 'Bates Motel',\n",
       " 'The Punisher',\n",
       " 'Atypical',\n",
       " 'Dynasty',\n",
       " 'This Is Us',\n",
       " 'The Good Place',\n",
       " 'Iron Fist',\n",
       " 'The Rain',\n",
       " 'Mindhunter',\n",
       " 'Revenge',\n",
       " 'Luke Cage',\n",
       " 'Scandal',\n",
       " 'The Defenders',\n",
       " 'Big Little Lies',\n",
       " 'Insatiable',\n",
       " 'The Mentalist',\n",
       " 'The Crown',\n",
       " 'Chernobyl',\n",
       " 'iZombie',\n",
       " 'Reign',\n",
       " 'A Series of Unfortunate Events',\n",
       " 'Criminal Minds',\n",
       " 'Scream',\n",
       " 'The Haunting of Hill House']"
      ]
     },
     "execution_count": 44,
     "metadata": {},
     "output_type": "execute_result"
    }
   ],
   "source": [
    "movie_names=[]\n",
    "\n",
    "for i in soup.find_all('h3',class_=\"lister-item-header\"):\n",
    "    movie_names.append(i.text.split('\\n')[2])\n",
    "\n",
    "movie_names"
   ]
  },
  {
   "cell_type": "code",
   "execution_count": 45,
   "id": "d1a1ba63",
   "metadata": {},
   "outputs": [
    {
     "data": {
      "text/plain": [
       "['(2011–2019)',\n",
       " '(2016– )',\n",
       " '(2010–2022)',\n",
       " '(2017–2020)',\n",
       " '(2014–2020)',\n",
       " '(2013–2019)',\n",
       " '(2017– )',\n",
       " '(2005– )',\n",
       " '(2014–2023)',\n",
       " '(2012–2020)',\n",
       " '(2017–2021)',\n",
       " '(2007–2019)',\n",
       " '(2011–2019)',\n",
       " '(2010–2017)',\n",
       " '(2013–2020)',\n",
       " '(2010–2017)',\n",
       " '(2009–2017)',\n",
       " '(2011– )',\n",
       " '(2008–2013)',\n",
       " '(2016–2021)',\n",
       " '(2005–2020)',\n",
       " '(2005–2017)',\n",
       " '(2014–2020)',\n",
       " '(2011–2017)',\n",
       " '(1989– )',\n",
       " '(2011–2018)',\n",
       " '(2015–2017)',\n",
       " '(2015–2018)',\n",
       " '(1994–2004)',\n",
       " '(2005–2014)',\n",
       " '(2011–2019)',\n",
       " '(2015–2019)',\n",
       " '(2013–2018)',\n",
       " '(2015–2021)',\n",
       " '(2007–2012)',\n",
       " '(2015–2018)',\n",
       " '(2014–2019)',\n",
       " '(2016–2022)',\n",
       " '(2015–2019)',\n",
       " '(2009–2020)',\n",
       " '(2013– )',\n",
       " '(2016–2019)',\n",
       " '(2017–2019)',\n",
       " '(2013–2018)',\n",
       " '(2017–2020)',\n",
       " '(2018– )',\n",
       " '(2019– )',\n",
       " '(2011–2021)',\n",
       " '(2011–2018)',\n",
       " '(2013–2020)',\n",
       " '(2018– )',\n",
       " '(2006–2013)',\n",
       " '(2015– )',\n",
       " '(1999– )',\n",
       " '(2013– )',\n",
       " '(2004–2010)',\n",
       " '(2013–2022)',\n",
       " '(2004–2012)',\n",
       " '(2015–2018)',\n",
       " '(2013–2017)',\n",
       " '(2011–2020)',\n",
       " '(2015–2020)',\n",
       " '(2016–2022)',\n",
       " '(2017– )',\n",
       " '(2018–2020)',\n",
       " '(2017– )',\n",
       " '(2014–2019)',\n",
       " '(2009–2015)',\n",
       " '(1997– )',\n",
       " '(2013–2021)',\n",
       " '(2013–2015)',\n",
       " '(2019–2023)',\n",
       " '(2014–2019)',\n",
       " '(2016–2019)',\n",
       " '(2004–2012)',\n",
       " '(2015–2022)',\n",
       " '(2013–2017)',\n",
       " '(2017–2019)',\n",
       " '(2017–2021)',\n",
       " '(2017–2022)',\n",
       " '(2016–2022)',\n",
       " '(2016–2020)',\n",
       " '(2017–2018)',\n",
       " '(2018–2020)',\n",
       " '(2017–2019)',\n",
       " '(2011–2015)',\n",
       " '(2016–2018)',\n",
       " '(2012–2018)',\n",
       " '(2017– )',\n",
       " '(2017–2019)',\n",
       " '(2018–2019)',\n",
       " '(2008–2015)',\n",
       " '(2016– )',\n",
       " '(2019)',\n",
       " '(2015–2019)',\n",
       " '(2013–2017)',\n",
       " '(2017–2019)',\n",
       " '(2005– )',\n",
       " '(2015–2019)',\n",
       " '(2018)']"
      ]
     },
     "execution_count": 45,
     "metadata": {},
     "output_type": "execute_result"
    }
   ],
   "source": [
    "year_of_span=[]\n",
    "\n",
    "for i in soup.find_all('span',class_=\"lister-item-year text-muted unbold\"):\n",
    "    year_of_span.append(i.text)\n",
    "\n",
    "year_of_span"
   ]
  },
  {
   "cell_type": "code",
   "execution_count": 46,
   "id": "1624325a",
   "metadata": {},
   "outputs": [
    {
     "data": {
      "text/plain": [
       "['Action, Adventure, Drama            ',\n",
       " 'Drama, Fantasy, Horror            ',\n",
       " 'Drama, Horror, Thriller            ',\n",
       " 'Drama, Mystery, Thriller            ',\n",
       " 'Drama, Mystery, Sci-Fi            ',\n",
       " 'Comedy, Crime, Drama            ',\n",
       " 'Crime, Drama, Mystery            ',\n",
       " 'Drama, Romance            ',\n",
       " 'Action, Adventure, Drama            ',\n",
       " 'Action, Adventure, Crime            ',\n",
       " 'Action, Crime, Drama            ',\n",
       " 'Comedy, Romance            ',\n",
       " 'Drama, Mystery, Sci-Fi            ',\n",
       " 'Crime, Drama, Mystery            ',\n",
       " 'Action, Adventure, Drama            ',\n",
       " 'Drama, Mystery, Romance            ',\n",
       " 'Drama, Fantasy, Horror            ',\n",
       " 'Drama, Horror, Sci-Fi            ',\n",
       " 'Crime, Drama, Thriller            ',\n",
       " 'Crime, Drama, Fantasy            ',\n",
       " 'Drama, Fantasy, Horror            ',\n",
       " 'Action, Crime, Drama            ',\n",
       " 'Crime, Drama, Mystery            ',\n",
       " 'Action, Drama, Fantasy            ',\n",
       " 'Animation, Comedy            ',\n",
       " 'Adventure, Fantasy, Romance            ',\n",
       " 'Biography, Crime, Drama            ',\n",
       " 'Action, Crime, Drama            ',\n",
       " 'Comedy, Romance            ',\n",
       " 'Comedy, Romance            ',\n",
       " 'Comedy, Drama            ',\n",
       " 'Crime, Drama, Thriller            ',\n",
       " 'Drama, Fantasy, Horror            ',\n",
       " 'Action, Adventure, Drama            ',\n",
       " 'Drama, Romance            ',\n",
       " 'Drama, Mystery, Sci-Fi            ',\n",
       " 'Action, Crime, Drama            ',\n",
       " 'Drama, Mystery, Sci-Fi            ',\n",
       " 'Action, Crime, Drama            ',\n",
       " 'Comedy, Drama, Romance            ',\n",
       " 'Animation, Adventure, Comedy            ',\n",
       " 'Action, Drama, Fantasy            ',\n",
       " 'Adventure, Comedy, Crime            ',\n",
       " 'Drama            ',\n",
       " 'Crime, Drama, Mystery            ',\n",
       " 'Crime, Drama, Thriller            ',\n",
       " 'Comedy, Drama            ',\n",
       " 'Comedy, Drama            ',\n",
       " 'Comedy, Romance            ',\n",
       " 'Action, Adventure, Drama            ',\n",
       " 'Crime, Drama, Romance            ',\n",
       " 'Crime, Drama, Mystery            ',\n",
       " 'Drama, Horror, Sci-Fi            ',\n",
       " 'Animation, Comedy            ',\n",
       " 'Crime, Drama, Mystery            ',\n",
       " 'Adventure, Drama, Fantasy            ',\n",
       " 'Crime, Drama            ',\n",
       " 'Drama, Mystery            ',\n",
       " 'Crime, Drama, Mystery            ',\n",
       " 'Drama, Sci-Fi, Thriller            ',\n",
       " 'Crime, Drama, Mystery            ',\n",
       " 'Action, Crime, Drama            ',\n",
       " 'Action, Adventure, Drama            ',\n",
       " 'Drama, Sci-Fi, Thriller            ',\n",
       " 'Drama, Fantasy, Horror            ',\n",
       " 'Drama            ',\n",
       " 'Comedy            ',\n",
       " 'Comedy, Drama, Music            ',\n",
       " 'Animation, Comedy            ',\n",
       " 'Comedy, Crime            ',\n",
       " 'Drama, Mystery, Sci-Fi            ',\n",
       " 'Action, Adventure, Comedy            ',\n",
       " 'Crime, Drama, Mystery            ',\n",
       " 'Drama, Fantasy, Mystery            ',\n",
       " 'Comedy, Drama, Mystery            ',\n",
       " 'Crime, Drama            ',\n",
       " 'Drama, Horror, Mystery            ',\n",
       " 'Action, Crime, Drama            ',\n",
       " 'Comedy, Drama            ',\n",
       " 'Drama            ',\n",
       " 'Comedy, Drama, Romance            ',\n",
       " 'Comedy, Drama, Fantasy            ',\n",
       " 'Action, Adventure, Crime            ',\n",
       " 'Drama, Sci-Fi, Thriller            ',\n",
       " 'Crime, Drama, Mystery            ',\n",
       " 'Drama, Mystery, Thriller            ',\n",
       " 'Action, Crime, Drama            ',\n",
       " 'Drama, Thriller            ',\n",
       " 'Action, Adventure, Crime            ',\n",
       " 'Crime, Drama, Mystery            ',\n",
       " 'Comedy, Drama, Thriller            ',\n",
       " 'Crime, Drama, Mystery            ',\n",
       " 'Biography, Drama, History            ',\n",
       " 'Drama, History, Thriller            ',\n",
       " 'Comedy, Crime, Drama            ',\n",
       " 'Drama            ',\n",
       " 'Adventure, Comedy, Drama            ',\n",
       " 'Crime, Drama, Mystery            ',\n",
       " 'Comedy, Crime, Drama            ',\n",
       " 'Drama, Horror, Mystery            ']"
      ]
     },
     "execution_count": 46,
     "metadata": {},
     "output_type": "execute_result"
    }
   ],
   "source": [
    "genre=[]\n",
    "\n",
    "for i in soup.find_all('span',class_=\"genre\"):\n",
    "    genre.append(i.text.split(\"\\n\")[1])\n",
    "\n",
    "genre"
   ]
  },
  {
   "cell_type": "code",
   "execution_count": 47,
   "id": "3789a0d2",
   "metadata": {},
   "outputs": [
    {
     "data": {
      "text/plain": [
       "['57 min',\n",
       " '51 min',\n",
       " '44 min',\n",
       " '60 min',\n",
       " '43 min',\n",
       " '59 min',\n",
       " '45 min',\n",
       " '41 min',\n",
       " '43 min',\n",
       " '42 min',\n",
       " '70 min',\n",
       " '22 min',\n",
       " '60 min',\n",
       " '88 min',\n",
       " '44 min',\n",
       " '44 min',\n",
       " '43 min',\n",
       " '60 min',\n",
       " '49 min',\n",
       " '42 min',\n",
       " '44 min',\n",
       " '44 min',\n",
       " '43 min',\n",
       " '41 min',\n",
       " '22 min',\n",
       " '60 min',\n",
       " '49 min',\n",
       " '54 min',\n",
       " '22 min',\n",
       " '22 min',\n",
       " '44 min',\n",
       " '49 min',\n",
       " '45 min',\n",
       " '43 min',\n",
       " '42 min',\n",
       " '60 min',\n",
       " '42 min',\n",
       " '62 min',\n",
       " '56 min',\n",
       " '22 min',\n",
       " '23 min',\n",
       " '42 min',\n",
       " '25 min',\n",
       " '51 min',\n",
       " '60 min',\n",
       " '60 min',\n",
       " '45 min',\n",
       " '46 min',\n",
       " '22 min',\n",
       " '45 min',\n",
       " '45 min',\n",
       " '53 min',\n",
       " '44 min',\n",
       " '22 min',\n",
       " '43 min',\n",
       " '44 min',\n",
       " '60 min',\n",
       " '44 min',\n",
       " '42 min',\n",
       " '44 min',\n",
       " '55 min',\n",
       " '42 min',\n",
       " '42 min',\n",
       " '60 min',\n",
       " '60 min',\n",
       " '41 min',\n",
       " '60 min',\n",
       " '44 min',\n",
       " '22 min',\n",
       " '22 min',\n",
       " '43 min',\n",
       " '60 min',\n",
       " '55 min',\n",
       " '60 min',\n",
       " '45 min',\n",
       " '46 min',\n",
       " '45 min',\n",
       " '53 min',\n",
       " '30 min',\n",
       " '42 min',\n",
       " '45 min',\n",
       " '22 min',\n",
       " '55 min',\n",
       " '45 min',\n",
       " '60 min',\n",
       " '44 min',\n",
       " '55 min',\n",
       " '43 min',\n",
       " '50 min',\n",
       " '60 min',\n",
       " '45 min',\n",
       " '43 min',\n",
       " '58 min',\n",
       " '330 min',\n",
       " '42 min',\n",
       " '42 min',\n",
       " '50 min',\n",
       " '42 min',\n",
       " '45 min',\n",
       " '572 min']"
      ]
     },
     "execution_count": 47,
     "metadata": {},
     "output_type": "execute_result"
    }
   ],
   "source": [
    "run_time=[]\n",
    "\n",
    "for i in soup.find_all('span',class_=\"runtime\"):\n",
    "    run_time.append(i.text)\n",
    "\n",
    "run_time"
   ]
  },
  {
   "cell_type": "code",
   "execution_count": 48,
   "id": "ce533b26",
   "metadata": {},
   "outputs": [
    {
     "data": {
      "text/plain": [
       "[['9.2'],\n",
       " ['8.7'],\n",
       " ['8.1'],\n",
       " ['7.5'],\n",
       " ['7.6'],\n",
       " ['8.1'],\n",
       " ['6.6'],\n",
       " ['7.6'],\n",
       " ['7.6'],\n",
       " ['7.5'],\n",
       " ['8.2'],\n",
       " ['8.2'],\n",
       " ['8.8'],\n",
       " ['9.1'],\n",
       " ['8.5'],\n",
       " ['7.4'],\n",
       " ['7.7'],\n",
       " ['8'],\n",
       " ['9.5'],\n",
       " ['8.1'],\n",
       " ['8.4'],\n",
       " ['8.3'],\n",
       " ['8.1'],\n",
       " ['7.7'],\n",
       " ['8.7'],\n",
       " ['7.7'],\n",
       " ['8.8'],\n",
       " ['8.6'],\n",
       " ['8.9'],\n",
       " ['8.3'],\n",
       " ['8.5'],\n",
       " ['8.6'],\n",
       " ['8.3'],\n",
       " ['6.2'],\n",
       " ['7.5'],\n",
       " ['8.2'],\n",
       " ['7.8'],\n",
       " ['8.5'],\n",
       " ['7.9'],\n",
       " ['8.5'],\n",
       " ['9.1'],\n",
       " ['6.5'],\n",
       " ['8.1'],\n",
       " ['8.7'],\n",
       " ['8.7'],\n",
       " ['7.3'],\n",
       " ['8.4'],\n",
       " ['8.6'],\n",
       " ['7.8'],\n",
       " ['7.5'],\n",
       " ['7.7'],\n",
       " ['8.7'],\n",
       " ['6.8'],\n",
       " ['8.2'],\n",
       " ['8'],\n",
       " ['8.3'],\n",
       " ['8.8'],\n",
       " ['8.7'],\n",
       " ['6.7'],\n",
       " ['8.3'],\n",
       " ['8.3'],\n",
       " ['7.3'],\n",
       " ['6.8'],\n",
       " ['8.4'],\n",
       " ['7.4'],\n",
       " ['8.1'],\n",
       " ['7.9'],\n",
       " ['6.8'],\n",
       " ['8.7'],\n",
       " ['8.4'],\n",
       " ['6.5'],\n",
       " ['7.9'],\n",
       " ['8.9'],\n",
       " ['7.8'],\n",
       " ['7.6'],\n",
       " ['8.9'],\n",
       " ['8.1'],\n",
       " ['8.5'],\n",
       " ['8.3'],\n",
       " ['7.3'],\n",
       " ['8.7'],\n",
       " ['8.2'],\n",
       " ['6.4'],\n",
       " ['6.3'],\n",
       " ['8.6'],\n",
       " ['7.8'],\n",
       " ['7.3'],\n",
       " ['7.7'],\n",
       " ['7.2'],\n",
       " ['8.5'],\n",
       " ['6.5'],\n",
       " ['8.1'],\n",
       " ['8.7'],\n",
       " ['9.4'],\n",
       " ['7.8'],\n",
       " ['7.4'],\n",
       " ['7.8'],\n",
       " ['8.1'],\n",
       " ['7.1'],\n",
       " ['8.6']]"
      ]
     },
     "execution_count": 48,
     "metadata": {},
     "output_type": "execute_result"
    }
   ],
   "source": [
    "ratings=[]\n",
    "\n",
    "for i in soup.find_all('span',class_=\"ipl-rating-star__rating\"):\n",
    "    ratings.append(i.text.split(\",\"))\n",
    "\n",
    "ratings=ratings[0::23]\n",
    "ratings"
   ]
  },
  {
   "cell_type": "code",
   "execution_count": 49,
   "id": "5291588f",
   "metadata": {},
   "outputs": [
    {
     "data": {
      "text/plain": [
       "['2,091,240',\n",
       " '1,180,725',\n",
       " '989,603',\n",
       " '292,987',\n",
       " '252,159',\n",
       " '303,041',\n",
       " '145,560',\n",
       " '309,091',\n",
       " '346,423',\n",
       " '432,066',\n",
       " '476,312',\n",
       " '807,528',\n",
       " '546,029',\n",
       " '924,718',\n",
       " '531,974',\n",
       " '168,090',\n",
       " '322,426',\n",
       " '319,830',\n",
       " '1,874,145',\n",
       " '324,637',\n",
       " '445,905',\n",
       " '535,557',\n",
       " '152,339',\n",
       " '149,023',\n",
       " '407,610',\n",
       " '225,516',\n",
       " '422,180',\n",
       " '440,985',\n",
       " '993,350',\n",
       " '683,403',\n",
       " '411,044',\n",
       " '387,873',\n",
       " '136,674',\n",
       " '124,457',\n",
       " '175,543',\n",
       " '155,047',\n",
       " '230,999',\n",
       " '505,179',\n",
       " '215,243',\n",
       " '430,858',\n",
       " '520,121',\n",
       " '64,145',\n",
       " '191,035',\n",
       " '504,764',\n",
       " '385,806',\n",
       " '79,757',\n",
       " '280,825',\n",
       " '243,510',\n",
       " '225,175',\n",
       " '217,702',\n",
       " '240,752',\n",
       " '725,593',\n",
       " '130,495',\n",
       " '340,136',\n",
       " '249,891',\n",
       " '553,652',\n",
       " '546,943',\n",
       " '465,085',\n",
       " '61,281',\n",
       " '111,567',\n",
       " '342,130',\n",
       " '74,421',\n",
       " '105,269',\n",
       " '237,337',\n",
       " '95,877',\n",
       " '95,625',\n",
       " '51,192',\n",
       " '149,031',\n",
       " '369,726',\n",
       " '316,380',\n",
       " '107,060',\n",
       " '248,411',\n",
       " '570,678',\n",
       " '105,500',\n",
       " '129,653',\n",
       " '526,035',\n",
       " '108,766',\n",
       " '236,685',\n",
       " '89,518',\n",
       " '22,893',\n",
       " '144,497',\n",
       " '160,842',\n",
       " '131,790',\n",
       " '37,618',\n",
       " '288,920',\n",
       " '120,510',\n",
       " '131,884',\n",
       " '74,364',\n",
       " '108,529',\n",
       " '199,710',\n",
       " '29,141',\n",
       " '185,803',\n",
       " '217,223',\n",
       " '749,188',\n",
       " '68,732',\n",
       " '50,208',\n",
       " '61,518',\n",
       " '198,521',\n",
       " '41,591',\n",
       " '245,425']"
      ]
     },
     "execution_count": 49,
     "metadata": {},
     "output_type": "execute_result"
    }
   ],
   "source": [
    "votes=[]\n",
    "\n",
    "for i in soup.find_all('p',class_=\"text-muted text-small\"):\n",
    "    votes.append(i.text.split('\\n')[2])\n",
    "votes=votes[2::3]\n",
    "votes"
   ]
  },
  {
   "cell_type": "code",
   "execution_count": 50,
   "id": "bd5195b4",
   "metadata": {},
   "outputs": [],
   "source": [
    "df=pd.DataFrame({\"Name\":movie_names,'Year_Span':year_of_span,'Genre':genre,'Runtime':run_time,'Ratings':ratings,'Votes':votes})\n"
   ]
  },
  {
   "cell_type": "code",
   "execution_count": 51,
   "id": "3d467964",
   "metadata": {},
   "outputs": [
    {
     "data": {
      "text/html": [
       "<div>\n",
       "<style scoped>\n",
       "    .dataframe tbody tr th:only-of-type {\n",
       "        vertical-align: middle;\n",
       "    }\n",
       "\n",
       "    .dataframe tbody tr th {\n",
       "        vertical-align: top;\n",
       "    }\n",
       "\n",
       "    .dataframe thead th {\n",
       "        text-align: right;\n",
       "    }\n",
       "</style>\n",
       "<table border=\"1\" class=\"dataframe\">\n",
       "  <thead>\n",
       "    <tr style=\"text-align: right;\">\n",
       "      <th></th>\n",
       "      <th>Name</th>\n",
       "      <th>Year_Span</th>\n",
       "      <th>Genre</th>\n",
       "      <th>Runtime</th>\n",
       "      <th>Ratings</th>\n",
       "      <th>Votes</th>\n",
       "    </tr>\n",
       "  </thead>\n",
       "  <tbody>\n",
       "    <tr>\n",
       "      <th>0</th>\n",
       "      <td>Game of Thrones</td>\n",
       "      <td>(2011–2019)</td>\n",
       "      <td>Action, Adventure, Drama</td>\n",
       "      <td>57 min</td>\n",
       "      <td>[9.2]</td>\n",
       "      <td>2,091,240</td>\n",
       "    </tr>\n",
       "    <tr>\n",
       "      <th>1</th>\n",
       "      <td>Stranger Things</td>\n",
       "      <td>(2016– )</td>\n",
       "      <td>Drama, Fantasy, Horror</td>\n",
       "      <td>51 min</td>\n",
       "      <td>[8.7]</td>\n",
       "      <td>1,180,725</td>\n",
       "    </tr>\n",
       "    <tr>\n",
       "      <th>2</th>\n",
       "      <td>The Walking Dead</td>\n",
       "      <td>(2010–2022)</td>\n",
       "      <td>Drama, Horror, Thriller</td>\n",
       "      <td>44 min</td>\n",
       "      <td>[8.1]</td>\n",
       "      <td>989,603</td>\n",
       "    </tr>\n",
       "    <tr>\n",
       "      <th>3</th>\n",
       "      <td>13 Reasons Why</td>\n",
       "      <td>(2017–2020)</td>\n",
       "      <td>Drama, Mystery, Thriller</td>\n",
       "      <td>60 min</td>\n",
       "      <td>[7.5]</td>\n",
       "      <td>292,987</td>\n",
       "    </tr>\n",
       "    <tr>\n",
       "      <th>4</th>\n",
       "      <td>The 100</td>\n",
       "      <td>(2014–2020)</td>\n",
       "      <td>Drama, Mystery, Sci-Fi</td>\n",
       "      <td>43 min</td>\n",
       "      <td>[7.6]</td>\n",
       "      <td>252,159</td>\n",
       "    </tr>\n",
       "    <tr>\n",
       "      <th>...</th>\n",
       "      <td>...</td>\n",
       "      <td>...</td>\n",
       "      <td>...</td>\n",
       "      <td>...</td>\n",
       "      <td>...</td>\n",
       "      <td>...</td>\n",
       "    </tr>\n",
       "    <tr>\n",
       "      <th>95</th>\n",
       "      <td>Reign</td>\n",
       "      <td>(2013–2017)</td>\n",
       "      <td>Drama</td>\n",
       "      <td>42 min</td>\n",
       "      <td>[7.4]</td>\n",
       "      <td>50,208</td>\n",
       "    </tr>\n",
       "    <tr>\n",
       "      <th>96</th>\n",
       "      <td>A Series of Unfortunate Events</td>\n",
       "      <td>(2017–2019)</td>\n",
       "      <td>Adventure, Comedy, Drama</td>\n",
       "      <td>50 min</td>\n",
       "      <td>[7.8]</td>\n",
       "      <td>61,518</td>\n",
       "    </tr>\n",
       "    <tr>\n",
       "      <th>97</th>\n",
       "      <td>Criminal Minds</td>\n",
       "      <td>(2005– )</td>\n",
       "      <td>Crime, Drama, Mystery</td>\n",
       "      <td>42 min</td>\n",
       "      <td>[8.1]</td>\n",
       "      <td>198,521</td>\n",
       "    </tr>\n",
       "    <tr>\n",
       "      <th>98</th>\n",
       "      <td>Scream</td>\n",
       "      <td>(2015–2019)</td>\n",
       "      <td>Comedy, Crime, Drama</td>\n",
       "      <td>45 min</td>\n",
       "      <td>[7.1]</td>\n",
       "      <td>41,591</td>\n",
       "    </tr>\n",
       "    <tr>\n",
       "      <th>99</th>\n",
       "      <td>The Haunting of Hill House</td>\n",
       "      <td>(2018)</td>\n",
       "      <td>Drama, Horror, Mystery</td>\n",
       "      <td>572 min</td>\n",
       "      <td>[8.6]</td>\n",
       "      <td>245,425</td>\n",
       "    </tr>\n",
       "  </tbody>\n",
       "</table>\n",
       "<p>100 rows × 6 columns</p>\n",
       "</div>"
      ],
      "text/plain": [
       "                              Name    Year_Span  \\\n",
       "0                  Game of Thrones  (2011–2019)   \n",
       "1                  Stranger Things     (2016– )   \n",
       "2                 The Walking Dead  (2010–2022)   \n",
       "3                   13 Reasons Why  (2017–2020)   \n",
       "4                          The 100  (2014–2020)   \n",
       "..                             ...          ...   \n",
       "95                           Reign  (2013–2017)   \n",
       "96  A Series of Unfortunate Events  (2017–2019)   \n",
       "97                  Criminal Minds     (2005– )   \n",
       "98                          Scream  (2015–2019)   \n",
       "99      The Haunting of Hill House       (2018)   \n",
       "\n",
       "                                   Genre  Runtime Ratings      Votes  \n",
       "0   Action, Adventure, Drama               57 min   [9.2]  2,091,240  \n",
       "1     Drama, Fantasy, Horror               51 min   [8.7]  1,180,725  \n",
       "2    Drama, Horror, Thriller               44 min   [8.1]    989,603  \n",
       "3   Drama, Mystery, Thriller               60 min   [7.5]    292,987  \n",
       "4     Drama, Mystery, Sci-Fi               43 min   [7.6]    252,159  \n",
       "..                                   ...      ...     ...        ...  \n",
       "95                     Drama               42 min   [7.4]     50,208  \n",
       "96  Adventure, Comedy, Drama               50 min   [7.8]     61,518  \n",
       "97     Crime, Drama, Mystery               42 min   [8.1]    198,521  \n",
       "98      Comedy, Crime, Drama               45 min   [7.1]     41,591  \n",
       "99    Drama, Horror, Mystery              572 min   [8.6]    245,425  \n",
       "\n",
       "[100 rows x 6 columns]"
      ]
     },
     "execution_count": 51,
     "metadata": {},
     "output_type": "execute_result"
    }
   ],
   "source": [
    "df"
   ]
  },
  {
   "cell_type": "code",
   "execution_count": null,
   "id": "bedd51db",
   "metadata": {},
   "outputs": [],
   "source": []
  },
  {
   "cell_type": "code",
   "execution_count": null,
   "id": "1ca15cab",
   "metadata": {},
   "outputs": [],
   "source": []
  }
 ],
 "metadata": {
  "kernelspec": {
   "display_name": "Python 3 (ipykernel)",
   "language": "python",
   "name": "python3"
  },
  "language_info": {
   "codemirror_mode": {
    "name": "ipython",
    "version": 3
   },
   "file_extension": ".py",
   "mimetype": "text/x-python",
   "name": "python",
   "nbconvert_exporter": "python",
   "pygments_lexer": "ipython3",
   "version": "3.9.12"
  }
 },
 "nbformat": 4,
 "nbformat_minor": 5
}
