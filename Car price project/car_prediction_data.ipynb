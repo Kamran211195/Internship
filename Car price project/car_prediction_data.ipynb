{
 "cells": [
  {
   "cell_type": "code",
   "execution_count": 6,
   "id": "45ac477f",
   "metadata": {},
   "outputs": [],
   "source": [
    "import pandas as pd\n",
    "import numpy as np\n",
    "from selenium import webdriver\n",
    "import time\n",
    "from selenium.common.exceptions import NoSuchElementException\n",
    "import warnings\n"
   ]
  },
  {
   "cell_type": "code",
   "execution_count": 7,
   "id": "eb666fb5",
   "metadata": {},
   "outputs": [
    {
     "name": "stderr",
     "output_type": "stream",
     "text": [
      "<ipython-input-7-80a59f9fb2d2>:1: DeprecationWarning: executable_path has been deprecated, please pass in a Service object\n",
      "  driver=webdriver.Chrome(r\"chromedriver.exe\")\n"
     ]
    }
   ],
   "source": [
    "\n",
    "driver=webdriver.Chrome(r\"chromedriver.exe\")"
   ]
  },
  {
   "cell_type": "markdown",
   "id": "a71e718e",
   "metadata": {},
   "source": [
    "#scrapping Car Data from cars24.com"
   ]
  },
  {
   "cell_type": "code",
   "execution_count": 8,
   "id": "41b7c800",
   "metadata": {},
   "outputs": [],
   "source": [
    "url1=\"https://www.cars24.com/buy-used-car?sort=P&search=HYUNDAI&storeCityId=8597&pinId=201301\"\n",
    "driver.get(url1)"
   ]
  },
  {
   "cell_type": "code",
   "execution_count": 9,
   "id": "e7b1f2ba",
   "metadata": {},
   "outputs": [],
   "source": [
    "ModelList=[]\n",
    "brandList=[]\n",
    "manufacturingYearList=[]\n",
    "variantList=[]\n",
    "KmDrivenList=[]\n",
    "ownerList=[]\n",
    "versionList=[]\n",
    "priceList=[]\n",
    "locationList=[]\n",
    " "
   ]
  },
  {
   "cell_type": "code",
   "execution_count": 10,
   "id": "2cf40080",
   "metadata": {},
   "outputs": [],
   "source": [
    "def scrapData(location):\n",
    "   \n",
    "    #time.sleep(5)\n",
    "    model=driver.find_elements_by_xpath(\"//div[@class='_1l4fi']/div/div/h2\")\n",
    "    for i in model:\n",
    "        #print(i.text)\n",
    "        str=i.text\n",
    "        m1=str.split(\" \" ,2)\n",
    "        model=str.split()[1]\n",
    "        #print(m1[0])\n",
    "        #print(m1[1])\n",
    "        #print(m1[2])\n",
    "        ModelList.append(m1[2])\n",
    "        manufacturingYearList.append(m1[0])\n",
    "        brandList.append(m1[1])\n",
    "\n",
    "    variant=driver.find_elements_by_xpath(\"//div[@class='_1l4fi']/div/div/p\")\n",
    "    for i in variant:\n",
    "        #print(i.text)\n",
    "        variantList.append(i.text)\n",
    "\n",
    "    Km=driver.find_elements_by_xpath(\"//div[@class='_1l4fi']/ul/li[1]\")\n",
    "    for i in Km:\n",
    "        #print(i.text)\n",
    "        str1=i.text\n",
    "        str1=str1.split()[0] \n",
    "        str1=str1.replace(\",\",\"\")\n",
    "        #print(str1)\n",
    "        str1=int(str1)\n",
    "        #print(type(str1))\n",
    "        KmDrivenList.append(str1)\n",
    "\n",
    "    owner=driver.find_elements_by_xpath(\"//div[@class='_1l4fi']/ul/li[2]\")\n",
    "    for i in owner:\n",
    "        #print(i.text)\n",
    "        ownerList.append(i.text)\n",
    "\n",
    "    version=driver.find_elements_by_xpath(\"//div[@class='_1l4fi']/ul/li[3]\")\n",
    "    for i in version:\n",
    "        #print(i.text)\n",
    "        versionList.append(i.text)  \n",
    "\n",
    "    price=driver.find_elements_by_xpath(\"//div[@class='_1l4fi']/div[2]/div[2]/span\")\n",
    "    for i in price:\n",
    "        #print(i.text)\n",
    "        str2=i.text\n",
    "        str2=str2[1:]\n",
    "        \n",
    "        str2=str2.replace(\",\",\"\")\n",
    "        #print(str2)\n",
    "        str1=int(str2)\n",
    "        #print(type(str2))\n",
    "    \n",
    "        priceList.append(str2) \n",
    "        locationList.append(location)"
   ]
  },
  {
   "cell_type": "code",
   "execution_count": 11,
   "id": "d267296c",
   "metadata": {},
   "outputs": [
    {
     "name": "stderr",
     "output_type": "stream",
     "text": [
      "<ipython-input-10-c29b5a940c01>:4: DeprecationWarning: find_elements_by_xpath is deprecated. Please use find_elements(by=By.XPATH, value=xpath) instead\n",
      "  model=driver.find_elements_by_xpath(\"//div[@class='_1l4fi']/div/div/h2\")\n",
      "<ipython-input-10-c29b5a940c01>:17: DeprecationWarning: find_elements_by_xpath is deprecated. Please use find_elements(by=By.XPATH, value=xpath) instead\n",
      "  variant=driver.find_elements_by_xpath(\"//div[@class='_1l4fi']/div/div/p\")\n",
      "<ipython-input-10-c29b5a940c01>:22: DeprecationWarning: find_elements_by_xpath is deprecated. Please use find_elements(by=By.XPATH, value=xpath) instead\n",
      "  Km=driver.find_elements_by_xpath(\"//div[@class='_1l4fi']/ul/li[1]\")\n",
      "<ipython-input-10-c29b5a940c01>:33: DeprecationWarning: find_elements_by_xpath is deprecated. Please use find_elements(by=By.XPATH, value=xpath) instead\n",
      "  owner=driver.find_elements_by_xpath(\"//div[@class='_1l4fi']/ul/li[2]\")\n",
      "<ipython-input-10-c29b5a940c01>:38: DeprecationWarning: find_elements_by_xpath is deprecated. Please use find_elements(by=By.XPATH, value=xpath) instead\n",
      "  version=driver.find_elements_by_xpath(\"//div[@class='_1l4fi']/ul/li[3]\")\n",
      "<ipython-input-10-c29b5a940c01>:43: DeprecationWarning: find_elements_by_xpath is deprecated. Please use find_elements(by=By.XPATH, value=xpath) instead\n",
      "  price=driver.find_elements_by_xpath(\"//div[@class='_1l4fi']/div[2]/div[2]/span\")\n"
     ]
    }
   ],
   "source": [
    "\n",
    "scrapData(\"Noida\")"
   ]
  },
  {
   "cell_type": "code",
   "execution_count": 12,
   "id": "92019b2b",
   "metadata": {},
   "outputs": [
    {
     "name": "stdout",
     "output_type": "stream",
     "text": [
      "20\n",
      "20\n",
      "20\n",
      "20\n",
      "20\n",
      "20\n",
      "20\n",
      "20\n",
      "20\n"
     ]
    }
   ],
   "source": [
    "print(len(ModelList))\n",
    "print(len(brandList))\n",
    "print(len(manufacturingYearList))\n",
    "print(len(variantList))\n",
    "print(len(KmDrivenList))\n",
    "print(len(ownerList))\n",
    "print(len(versionList))\n",
    "print(len(priceList))\n",
    "print(len(locationList))"
   ]
  },
  {
   "cell_type": "code",
   "execution_count": 13,
   "id": "d9c4cf7d",
   "metadata": {},
   "outputs": [],
   "source": [
    "url=\"https://www.cars24.com/buy-used-car?carName=RENAULT&sort=P&storeCityId=4709&pinId=560001\"\n",
    "driver.get(url)"
   ]
  },
  {
   "cell_type": "code",
   "execution_count": 14,
   "id": "74a0fea3",
   "metadata": {},
   "outputs": [
    {
     "name": "stderr",
     "output_type": "stream",
     "text": [
      "<ipython-input-10-c29b5a940c01>:4: DeprecationWarning: find_elements_by_xpath is deprecated. Please use find_elements(by=By.XPATH, value=xpath) instead\n",
      "  model=driver.find_elements_by_xpath(\"//div[@class='_1l4fi']/div/div/h2\")\n",
      "<ipython-input-10-c29b5a940c01>:17: DeprecationWarning: find_elements_by_xpath is deprecated. Please use find_elements(by=By.XPATH, value=xpath) instead\n",
      "  variant=driver.find_elements_by_xpath(\"//div[@class='_1l4fi']/div/div/p\")\n",
      "<ipython-input-10-c29b5a940c01>:22: DeprecationWarning: find_elements_by_xpath is deprecated. Please use find_elements(by=By.XPATH, value=xpath) instead\n",
      "  Km=driver.find_elements_by_xpath(\"//div[@class='_1l4fi']/ul/li[1]\")\n",
      "<ipython-input-10-c29b5a940c01>:33: DeprecationWarning: find_elements_by_xpath is deprecated. Please use find_elements(by=By.XPATH, value=xpath) instead\n",
      "  owner=driver.find_elements_by_xpath(\"//div[@class='_1l4fi']/ul/li[2]\")\n",
      "<ipython-input-10-c29b5a940c01>:38: DeprecationWarning: find_elements_by_xpath is deprecated. Please use find_elements(by=By.XPATH, value=xpath) instead\n",
      "  version=driver.find_elements_by_xpath(\"//div[@class='_1l4fi']/ul/li[3]\")\n",
      "<ipython-input-10-c29b5a940c01>:43: DeprecationWarning: find_elements_by_xpath is deprecated. Please use find_elements(by=By.XPATH, value=xpath) instead\n",
      "  price=driver.find_elements_by_xpath(\"//div[@class='_1l4fi']/div[2]/div[2]/span\")\n"
     ]
    }
   ],
   "source": [
    "scrapData(\"Bengaluru\")"
   ]
  },
  {
   "cell_type": "code",
   "execution_count": 15,
   "id": "c2ca55fc",
   "metadata": {},
   "outputs": [
    {
     "name": "stdout",
     "output_type": "stream",
     "text": [
      "40\n",
      "40\n",
      "40\n",
      "40\n",
      "40\n",
      "40\n",
      "40\n",
      "40\n",
      "40\n"
     ]
    }
   ],
   "source": [
    "print(len(ModelList))\n",
    "print(len(brandList))\n",
    "print(len(manufacturingYearList))\n",
    "print(len(variantList))\n",
    "print(len(KmDrivenList))\n",
    "print(len(ownerList))\n",
    "print(len(versionList))\n",
    "print(len(priceList))\n",
    "print(len(locationList))"
   ]
  },
  {
   "cell_type": "code",
   "execution_count": 16,
   "id": "8b99ec9b",
   "metadata": {},
   "outputs": [],
   "source": [
    "url=\"https://www.cars24.com/buy-used-car?carName=HYUNDAI&sort=P&storeCityId=3686&pinId=500001\"\n",
    "driver.get(url)"
   ]
  },
  {
   "cell_type": "code",
   "execution_count": 17,
   "id": "ffa5f52e",
   "metadata": {},
   "outputs": [
    {
     "name": "stderr",
     "output_type": "stream",
     "text": [
      "<ipython-input-10-c29b5a940c01>:4: DeprecationWarning: find_elements_by_xpath is deprecated. Please use find_elements(by=By.XPATH, value=xpath) instead\n",
      "  model=driver.find_elements_by_xpath(\"//div[@class='_1l4fi']/div/div/h2\")\n",
      "<ipython-input-10-c29b5a940c01>:17: DeprecationWarning: find_elements_by_xpath is deprecated. Please use find_elements(by=By.XPATH, value=xpath) instead\n",
      "  variant=driver.find_elements_by_xpath(\"//div[@class='_1l4fi']/div/div/p\")\n",
      "<ipython-input-10-c29b5a940c01>:22: DeprecationWarning: find_elements_by_xpath is deprecated. Please use find_elements(by=By.XPATH, value=xpath) instead\n",
      "  Km=driver.find_elements_by_xpath(\"//div[@class='_1l4fi']/ul/li[1]\")\n",
      "<ipython-input-10-c29b5a940c01>:33: DeprecationWarning: find_elements_by_xpath is deprecated. Please use find_elements(by=By.XPATH, value=xpath) instead\n",
      "  owner=driver.find_elements_by_xpath(\"//div[@class='_1l4fi']/ul/li[2]\")\n",
      "<ipython-input-10-c29b5a940c01>:38: DeprecationWarning: find_elements_by_xpath is deprecated. Please use find_elements(by=By.XPATH, value=xpath) instead\n",
      "  version=driver.find_elements_by_xpath(\"//div[@class='_1l4fi']/ul/li[3]\")\n",
      "<ipython-input-10-c29b5a940c01>:43: DeprecationWarning: find_elements_by_xpath is deprecated. Please use find_elements(by=By.XPATH, value=xpath) instead\n",
      "  price=driver.find_elements_by_xpath(\"//div[@class='_1l4fi']/div[2]/div[2]/span\")\n"
     ]
    }
   ],
   "source": [
    "scrapData(\"Hyderabad\")"
   ]
  },
  {
   "cell_type": "code",
   "execution_count": 18,
   "id": "bf790a9f",
   "metadata": {},
   "outputs": [
    {
     "name": "stdout",
     "output_type": "stream",
     "text": [
      "60\n",
      "60\n",
      "60\n",
      "60\n",
      "60\n",
      "60\n",
      "60\n",
      "60\n",
      "60\n"
     ]
    }
   ],
   "source": [
    "print(len(ModelList))\n",
    "print(len(brandList))\n",
    "print(len(manufacturingYearList))\n",
    "print(len(variantList))\n",
    "print(len(KmDrivenList))\n",
    "print(len(ownerList))\n",
    "print(len(versionList))\n",
    "print(len(priceList))\n",
    "print(len(locationList))"
   ]
  },
  {
   "cell_type": "code",
   "execution_count": 19,
   "id": "0e1fb26c",
   "metadata": {},
   "outputs": [],
   "source": [
    "url=\"https://www.cars24.com/buy-used-car?carName=TOYOTA&sort=P&storeCityId=2378&pinId=400001\"\n",
    "driver.get(url)"
   ]
  },
  {
   "cell_type": "code",
   "execution_count": 20,
   "id": "0c34360f",
   "metadata": {},
   "outputs": [
    {
     "name": "stderr",
     "output_type": "stream",
     "text": [
      "<ipython-input-10-c29b5a940c01>:4: DeprecationWarning: find_elements_by_xpath is deprecated. Please use find_elements(by=By.XPATH, value=xpath) instead\n",
      "  model=driver.find_elements_by_xpath(\"//div[@class='_1l4fi']/div/div/h2\")\n",
      "<ipython-input-10-c29b5a940c01>:17: DeprecationWarning: find_elements_by_xpath is deprecated. Please use find_elements(by=By.XPATH, value=xpath) instead\n",
      "  variant=driver.find_elements_by_xpath(\"//div[@class='_1l4fi']/div/div/p\")\n",
      "<ipython-input-10-c29b5a940c01>:22: DeprecationWarning: find_elements_by_xpath is deprecated. Please use find_elements(by=By.XPATH, value=xpath) instead\n",
      "  Km=driver.find_elements_by_xpath(\"//div[@class='_1l4fi']/ul/li[1]\")\n",
      "<ipython-input-10-c29b5a940c01>:33: DeprecationWarning: find_elements_by_xpath is deprecated. Please use find_elements(by=By.XPATH, value=xpath) instead\n",
      "  owner=driver.find_elements_by_xpath(\"//div[@class='_1l4fi']/ul/li[2]\")\n",
      "<ipython-input-10-c29b5a940c01>:38: DeprecationWarning: find_elements_by_xpath is deprecated. Please use find_elements(by=By.XPATH, value=xpath) instead\n",
      "  version=driver.find_elements_by_xpath(\"//div[@class='_1l4fi']/ul/li[3]\")\n",
      "<ipython-input-10-c29b5a940c01>:43: DeprecationWarning: find_elements_by_xpath is deprecated. Please use find_elements(by=By.XPATH, value=xpath) instead\n",
      "  price=driver.find_elements_by_xpath(\"//div[@class='_1l4fi']/div[2]/div[2]/span\")\n"
     ]
    }
   ],
   "source": [
    "scrapData(\"Mumbai\")"
   ]
  },
  {
   "cell_type": "code",
   "execution_count": 21,
   "id": "d642ddea",
   "metadata": {},
   "outputs": [
    {
     "name": "stdout",
     "output_type": "stream",
     "text": [
      "80\n",
      "80\n",
      "80\n",
      "80\n",
      "80\n",
      "80\n",
      "80\n",
      "80\n",
      "80\n"
     ]
    }
   ],
   "source": [
    "print(len(ModelList))\n",
    "print(len(brandList))\n",
    "print(len(manufacturingYearList))\n",
    "print(len(variantList))\n",
    "print(len(KmDrivenList))\n",
    "print(len(ownerList))\n",
    "print(len(versionList))\n",
    "print(len(priceList))\n",
    "print(len(locationList))"
   ]
  },
  {
   "cell_type": "code",
   "execution_count": 22,
   "id": "e77bfb78",
   "metadata": {},
   "outputs": [],
   "source": [
    "url=\"https://www.cars24.com/buy-used-maruti-cars-kolkata/\"\n",
    "driver.get(url)"
   ]
  },
  {
   "cell_type": "code",
   "execution_count": 23,
   "id": "615717b5",
   "metadata": {},
   "outputs": [
    {
     "name": "stderr",
     "output_type": "stream",
     "text": [
      "<ipython-input-10-c29b5a940c01>:4: DeprecationWarning: find_elements_by_xpath is deprecated. Please use find_elements(by=By.XPATH, value=xpath) instead\n",
      "  model=driver.find_elements_by_xpath(\"//div[@class='_1l4fi']/div/div/h2\")\n",
      "<ipython-input-10-c29b5a940c01>:17: DeprecationWarning: find_elements_by_xpath is deprecated. Please use find_elements(by=By.XPATH, value=xpath) instead\n",
      "  variant=driver.find_elements_by_xpath(\"//div[@class='_1l4fi']/div/div/p\")\n",
      "<ipython-input-10-c29b5a940c01>:22: DeprecationWarning: find_elements_by_xpath is deprecated. Please use find_elements(by=By.XPATH, value=xpath) instead\n",
      "  Km=driver.find_elements_by_xpath(\"//div[@class='_1l4fi']/ul/li[1]\")\n",
      "<ipython-input-10-c29b5a940c01>:33: DeprecationWarning: find_elements_by_xpath is deprecated. Please use find_elements(by=By.XPATH, value=xpath) instead\n",
      "  owner=driver.find_elements_by_xpath(\"//div[@class='_1l4fi']/ul/li[2]\")\n",
      "<ipython-input-10-c29b5a940c01>:38: DeprecationWarning: find_elements_by_xpath is deprecated. Please use find_elements(by=By.XPATH, value=xpath) instead\n",
      "  version=driver.find_elements_by_xpath(\"//div[@class='_1l4fi']/ul/li[3]\")\n",
      "<ipython-input-10-c29b5a940c01>:43: DeprecationWarning: find_elements_by_xpath is deprecated. Please use find_elements(by=By.XPATH, value=xpath) instead\n",
      "  price=driver.find_elements_by_xpath(\"//div[@class='_1l4fi']/div[2]/div[2]/span\")\n"
     ]
    }
   ],
   "source": [
    "scrapData(\"Kolkata\")"
   ]
  },
  {
   "cell_type": "code",
   "execution_count": 24,
   "id": "e3454116",
   "metadata": {},
   "outputs": [
    {
     "name": "stdout",
     "output_type": "stream",
     "text": [
      "100\n",
      "100\n",
      "100\n",
      "100\n",
      "100\n",
      "100\n",
      "100\n",
      "100\n",
      "100\n"
     ]
    }
   ],
   "source": [
    "print(len(ModelList))\n",
    "print(len(brandList))\n",
    "print(len(manufacturingYearList))\n",
    "print(len(variantList))\n",
    "print(len(KmDrivenList))\n",
    "print(len(ownerList))\n",
    "print(len(versionList))\n",
    "print(len(priceList))\n",
    "print(len(locationList))"
   ]
  },
  {
   "cell_type": "code",
   "execution_count": 25,
   "id": "a6633e7b",
   "metadata": {},
   "outputs": [],
   "source": [
    "url=\"https://www.cars24.com/buy-used-hyundai-cars-kolkata/\"\n",
    "driver.get(url)"
   ]
  },
  {
   "cell_type": "code",
   "execution_count": 26,
   "id": "4fca38f2",
   "metadata": {},
   "outputs": [
    {
     "name": "stderr",
     "output_type": "stream",
     "text": [
      "<ipython-input-10-c29b5a940c01>:4: DeprecationWarning: find_elements_by_xpath is deprecated. Please use find_elements(by=By.XPATH, value=xpath) instead\n",
      "  model=driver.find_elements_by_xpath(\"//div[@class='_1l4fi']/div/div/h2\")\n",
      "<ipython-input-10-c29b5a940c01>:17: DeprecationWarning: find_elements_by_xpath is deprecated. Please use find_elements(by=By.XPATH, value=xpath) instead\n",
      "  variant=driver.find_elements_by_xpath(\"//div[@class='_1l4fi']/div/div/p\")\n",
      "<ipython-input-10-c29b5a940c01>:22: DeprecationWarning: find_elements_by_xpath is deprecated. Please use find_elements(by=By.XPATH, value=xpath) instead\n",
      "  Km=driver.find_elements_by_xpath(\"//div[@class='_1l4fi']/ul/li[1]\")\n",
      "<ipython-input-10-c29b5a940c01>:33: DeprecationWarning: find_elements_by_xpath is deprecated. Please use find_elements(by=By.XPATH, value=xpath) instead\n",
      "  owner=driver.find_elements_by_xpath(\"//div[@class='_1l4fi']/ul/li[2]\")\n",
      "<ipython-input-10-c29b5a940c01>:38: DeprecationWarning: find_elements_by_xpath is deprecated. Please use find_elements(by=By.XPATH, value=xpath) instead\n",
      "  version=driver.find_elements_by_xpath(\"//div[@class='_1l4fi']/ul/li[3]\")\n",
      "<ipython-input-10-c29b5a940c01>:43: DeprecationWarning: find_elements_by_xpath is deprecated. Please use find_elements(by=By.XPATH, value=xpath) instead\n",
      "  price=driver.find_elements_by_xpath(\"//div[@class='_1l4fi']/div[2]/div[2]/span\")\n"
     ]
    }
   ],
   "source": [
    "\n",
    "scrapData(\"Kolkata\")"
   ]
  },
  {
   "cell_type": "code",
   "execution_count": 27,
   "id": "f9d54461",
   "metadata": {},
   "outputs": [
    {
     "name": "stdout",
     "output_type": "stream",
     "text": [
      "120\n",
      "120\n",
      "120\n",
      "120\n",
      "120\n",
      "120\n",
      "120\n",
      "120\n",
      "120\n"
     ]
    }
   ],
   "source": [
    "print(len(ModelList))\n",
    "print(len(brandList))\n",
    "print(len(manufacturingYearList))\n",
    "print(len(variantList))\n",
    "print(len(KmDrivenList))\n",
    "print(len(ownerList))\n",
    "print(len(versionList))\n",
    "print(len(priceList))\n",
    "print(len(locationList))"
   ]
  },
  {
   "cell_type": "code",
   "execution_count": 28,
   "id": "166aa818",
   "metadata": {},
   "outputs": [],
   "source": [
    "url=\"https://www.cars24.com/buy-used-car?carName=MAHINDRA&sort=P&storeCityId=4709&pinId=560001\"\n",
    "driver.get(url)"
   ]
  },
  {
   "cell_type": "code",
   "execution_count": 29,
   "id": "969386c9",
   "metadata": {},
   "outputs": [
    {
     "name": "stderr",
     "output_type": "stream",
     "text": [
      "<ipython-input-10-c29b5a940c01>:4: DeprecationWarning: find_elements_by_xpath is deprecated. Please use find_elements(by=By.XPATH, value=xpath) instead\n",
      "  model=driver.find_elements_by_xpath(\"//div[@class='_1l4fi']/div/div/h2\")\n",
      "<ipython-input-10-c29b5a940c01>:17: DeprecationWarning: find_elements_by_xpath is deprecated. Please use find_elements(by=By.XPATH, value=xpath) instead\n",
      "  variant=driver.find_elements_by_xpath(\"//div[@class='_1l4fi']/div/div/p\")\n",
      "<ipython-input-10-c29b5a940c01>:22: DeprecationWarning: find_elements_by_xpath is deprecated. Please use find_elements(by=By.XPATH, value=xpath) instead\n",
      "  Km=driver.find_elements_by_xpath(\"//div[@class='_1l4fi']/ul/li[1]\")\n",
      "<ipython-input-10-c29b5a940c01>:33: DeprecationWarning: find_elements_by_xpath is deprecated. Please use find_elements(by=By.XPATH, value=xpath) instead\n",
      "  owner=driver.find_elements_by_xpath(\"//div[@class='_1l4fi']/ul/li[2]\")\n",
      "<ipython-input-10-c29b5a940c01>:38: DeprecationWarning: find_elements_by_xpath is deprecated. Please use find_elements(by=By.XPATH, value=xpath) instead\n",
      "  version=driver.find_elements_by_xpath(\"//div[@class='_1l4fi']/ul/li[3]\")\n",
      "<ipython-input-10-c29b5a940c01>:43: DeprecationWarning: find_elements_by_xpath is deprecated. Please use find_elements(by=By.XPATH, value=xpath) instead\n",
      "  price=driver.find_elements_by_xpath(\"//div[@class='_1l4fi']/div[2]/div[2]/span\")\n"
     ]
    }
   ],
   "source": [
    "scrapData(\"Bengaluru\")"
   ]
  },
  {
   "cell_type": "code",
   "execution_count": 30,
   "id": "ee61e331",
   "metadata": {},
   "outputs": [
    {
     "name": "stdout",
     "output_type": "stream",
     "text": [
      "132\n",
      "132\n",
      "132\n",
      "132\n",
      "132\n",
      "132\n",
      "132\n",
      "132\n",
      "132\n"
     ]
    }
   ],
   "source": [
    "print(len(ModelList))\n",
    "print(len(brandList))\n",
    "print(len(manufacturingYearList))\n",
    "print(len(variantList))\n",
    "print(len(KmDrivenList))\n",
    "print(len(ownerList))\n",
    "print(len(versionList))\n",
    "print(len(priceList))\n",
    "print(len(locationList))"
   ]
  },
  {
   "cell_type": "code",
   "execution_count": 31,
   "id": "d87caf91",
   "metadata": {},
   "outputs": [],
   "source": [
    "url=\"https://www.cars24.com/buy-used-maruti-cars-bengaluru/\"\n",
    "driver.get(url)"
   ]
  },
  {
   "cell_type": "code",
   "execution_count": 32,
   "id": "2d3320e9",
   "metadata": {},
   "outputs": [
    {
     "name": "stderr",
     "output_type": "stream",
     "text": [
      "<ipython-input-10-c29b5a940c01>:4: DeprecationWarning: find_elements_by_xpath is deprecated. Please use find_elements(by=By.XPATH, value=xpath) instead\n",
      "  model=driver.find_elements_by_xpath(\"//div[@class='_1l4fi']/div/div/h2\")\n",
      "<ipython-input-10-c29b5a940c01>:17: DeprecationWarning: find_elements_by_xpath is deprecated. Please use find_elements(by=By.XPATH, value=xpath) instead\n",
      "  variant=driver.find_elements_by_xpath(\"//div[@class='_1l4fi']/div/div/p\")\n",
      "<ipython-input-10-c29b5a940c01>:22: DeprecationWarning: find_elements_by_xpath is deprecated. Please use find_elements(by=By.XPATH, value=xpath) instead\n",
      "  Km=driver.find_elements_by_xpath(\"//div[@class='_1l4fi']/ul/li[1]\")\n",
      "<ipython-input-10-c29b5a940c01>:33: DeprecationWarning: find_elements_by_xpath is deprecated. Please use find_elements(by=By.XPATH, value=xpath) instead\n",
      "  owner=driver.find_elements_by_xpath(\"//div[@class='_1l4fi']/ul/li[2]\")\n",
      "<ipython-input-10-c29b5a940c01>:38: DeprecationWarning: find_elements_by_xpath is deprecated. Please use find_elements(by=By.XPATH, value=xpath) instead\n",
      "  version=driver.find_elements_by_xpath(\"//div[@class='_1l4fi']/ul/li[3]\")\n",
      "<ipython-input-10-c29b5a940c01>:43: DeprecationWarning: find_elements_by_xpath is deprecated. Please use find_elements(by=By.XPATH, value=xpath) instead\n",
      "  price=driver.find_elements_by_xpath(\"//div[@class='_1l4fi']/div[2]/div[2]/span\")\n"
     ]
    }
   ],
   "source": [
    "url=\"https://www.cars24.com/buy-used-maruti-cars-bengaluru/\"\n",
    "driver.get(url)\n",
    "scrapData(\"Bengaluru\")"
   ]
  },
  {
   "cell_type": "code",
   "execution_count": 33,
   "id": "d4ac32c8",
   "metadata": {},
   "outputs": [
    {
     "name": "stdout",
     "output_type": "stream",
     "text": [
      "152\n",
      "152\n",
      "152\n",
      "152\n",
      "152\n",
      "152\n",
      "152\n",
      "152\n",
      "152\n"
     ]
    }
   ],
   "source": [
    "print(len(ModelList))\n",
    "print(len(brandList))\n",
    "print(len(manufacturingYearList))\n",
    "print(len(variantList))\n",
    "print(len(KmDrivenList))\n",
    "print(len(ownerList))\n",
    "print(len(versionList))\n",
    "print(len(priceList))\n",
    "print(len(locationList))"
   ]
  },
  {
   "cell_type": "code",
   "execution_count": 34,
   "id": "d62257bd",
   "metadata": {},
   "outputs": [],
   "source": [
    "url=\"https://www.cars24.com/buy-used-car?carName=MARUTI&sort=P&storeCityId=2378&pinId=400001\"\n",
    "driver.get(url)"
   ]
  },
  {
   "cell_type": "code",
   "execution_count": 35,
   "id": "829fe350",
   "metadata": {},
   "outputs": [
    {
     "name": "stderr",
     "output_type": "stream",
     "text": [
      "<ipython-input-10-c29b5a940c01>:4: DeprecationWarning: find_elements_by_xpath is deprecated. Please use find_elements(by=By.XPATH, value=xpath) instead\n",
      "  model=driver.find_elements_by_xpath(\"//div[@class='_1l4fi']/div/div/h2\")\n",
      "<ipython-input-10-c29b5a940c01>:17: DeprecationWarning: find_elements_by_xpath is deprecated. Please use find_elements(by=By.XPATH, value=xpath) instead\n",
      "  variant=driver.find_elements_by_xpath(\"//div[@class='_1l4fi']/div/div/p\")\n",
      "<ipython-input-10-c29b5a940c01>:22: DeprecationWarning: find_elements_by_xpath is deprecated. Please use find_elements(by=By.XPATH, value=xpath) instead\n",
      "  Km=driver.find_elements_by_xpath(\"//div[@class='_1l4fi']/ul/li[1]\")\n",
      "<ipython-input-10-c29b5a940c01>:33: DeprecationWarning: find_elements_by_xpath is deprecated. Please use find_elements(by=By.XPATH, value=xpath) instead\n",
      "  owner=driver.find_elements_by_xpath(\"//div[@class='_1l4fi']/ul/li[2]\")\n",
      "<ipython-input-10-c29b5a940c01>:38: DeprecationWarning: find_elements_by_xpath is deprecated. Please use find_elements(by=By.XPATH, value=xpath) instead\n",
      "  version=driver.find_elements_by_xpath(\"//div[@class='_1l4fi']/ul/li[3]\")\n",
      "<ipython-input-10-c29b5a940c01>:43: DeprecationWarning: find_elements_by_xpath is deprecated. Please use find_elements(by=By.XPATH, value=xpath) instead\n",
      "  price=driver.find_elements_by_xpath(\"//div[@class='_1l4fi']/div[2]/div[2]/span\")\n"
     ]
    }
   ],
   "source": [
    "\n",
    "scrapData(\"Mumbai\")"
   ]
  },
  {
   "cell_type": "code",
   "execution_count": 36,
   "id": "84fb1309",
   "metadata": {},
   "outputs": [
    {
     "name": "stdout",
     "output_type": "stream",
     "text": [
      "172\n",
      "172\n",
      "172\n",
      "172\n",
      "172\n",
      "172\n",
      "172\n",
      "172\n",
      "172\n"
     ]
    }
   ],
   "source": [
    "print(len(ModelList))\n",
    "print(len(brandList))\n",
    "print(len(manufacturingYearList))\n",
    "print(len(variantList))\n",
    "print(len(KmDrivenList))\n",
    "print(len(ownerList))\n",
    "print(len(versionList))\n",
    "print(len(priceList))\n",
    "print(len(locationList))"
   ]
  },
  {
   "cell_type": "code",
   "execution_count": 37,
   "id": "b72e5be9",
   "metadata": {},
   "outputs": [],
   "source": [
    "url='https://www.cars24.com/buy-used-maruti-cars-hyderabad/'\n",
    "driver.get(url)"
   ]
  },
  {
   "cell_type": "code",
   "execution_count": 38,
   "id": "77da0083",
   "metadata": {},
   "outputs": [
    {
     "name": "stderr",
     "output_type": "stream",
     "text": [
      "<ipython-input-10-c29b5a940c01>:4: DeprecationWarning: find_elements_by_xpath is deprecated. Please use find_elements(by=By.XPATH, value=xpath) instead\n",
      "  model=driver.find_elements_by_xpath(\"//div[@class='_1l4fi']/div/div/h2\")\n",
      "<ipython-input-10-c29b5a940c01>:17: DeprecationWarning: find_elements_by_xpath is deprecated. Please use find_elements(by=By.XPATH, value=xpath) instead\n",
      "  variant=driver.find_elements_by_xpath(\"//div[@class='_1l4fi']/div/div/p\")\n",
      "<ipython-input-10-c29b5a940c01>:22: DeprecationWarning: find_elements_by_xpath is deprecated. Please use find_elements(by=By.XPATH, value=xpath) instead\n",
      "  Km=driver.find_elements_by_xpath(\"//div[@class='_1l4fi']/ul/li[1]\")\n",
      "<ipython-input-10-c29b5a940c01>:33: DeprecationWarning: find_elements_by_xpath is deprecated. Please use find_elements(by=By.XPATH, value=xpath) instead\n",
      "  owner=driver.find_elements_by_xpath(\"//div[@class='_1l4fi']/ul/li[2]\")\n",
      "<ipython-input-10-c29b5a940c01>:38: DeprecationWarning: find_elements_by_xpath is deprecated. Please use find_elements(by=By.XPATH, value=xpath) instead\n",
      "  version=driver.find_elements_by_xpath(\"//div[@class='_1l4fi']/ul/li[3]\")\n",
      "<ipython-input-10-c29b5a940c01>:43: DeprecationWarning: find_elements_by_xpath is deprecated. Please use find_elements(by=By.XPATH, value=xpath) instead\n",
      "  price=driver.find_elements_by_xpath(\"//div[@class='_1l4fi']/div[2]/div[2]/span\")\n"
     ]
    }
   ],
   "source": [
    "scrapData(\"Hyderabad\")"
   ]
  },
  {
   "cell_type": "code",
   "execution_count": 39,
   "id": "3b630590",
   "metadata": {},
   "outputs": [
    {
     "name": "stdout",
     "output_type": "stream",
     "text": [
      "192\n",
      "192\n",
      "192\n",
      "192\n",
      "192\n",
      "192\n",
      "192\n",
      "192\n",
      "192\n"
     ]
    }
   ],
   "source": [
    "print(len(ModelList))\n",
    "print(len(brandList))\n",
    "print(len(manufacturingYearList))\n",
    "print(len(variantList))\n",
    "print(len(KmDrivenList))\n",
    "print(len(ownerList))\n",
    "print(len(versionList))\n",
    "print(len(priceList))\n",
    "print(len(locationList))"
   ]
  },
  {
   "cell_type": "code",
   "execution_count": 40,
   "id": "2d347f45",
   "metadata": {},
   "outputs": [],
   "source": [
    "url=\"https://www.cars24.com/buy-used-car?carName=MARUTI&sort=P&search=MARUTI&storeCityId=8597&pinId=201301\"\n",
    "driver.get(url)"
   ]
  },
  {
   "cell_type": "code",
   "execution_count": 41,
   "id": "efbb88c1",
   "metadata": {},
   "outputs": [
    {
     "name": "stderr",
     "output_type": "stream",
     "text": [
      "<ipython-input-10-c29b5a940c01>:4: DeprecationWarning: find_elements_by_xpath is deprecated. Please use find_elements(by=By.XPATH, value=xpath) instead\n",
      "  model=driver.find_elements_by_xpath(\"//div[@class='_1l4fi']/div/div/h2\")\n",
      "<ipython-input-10-c29b5a940c01>:17: DeprecationWarning: find_elements_by_xpath is deprecated. Please use find_elements(by=By.XPATH, value=xpath) instead\n",
      "  variant=driver.find_elements_by_xpath(\"//div[@class='_1l4fi']/div/div/p\")\n",
      "<ipython-input-10-c29b5a940c01>:22: DeprecationWarning: find_elements_by_xpath is deprecated. Please use find_elements(by=By.XPATH, value=xpath) instead\n",
      "  Km=driver.find_elements_by_xpath(\"//div[@class='_1l4fi']/ul/li[1]\")\n",
      "<ipython-input-10-c29b5a940c01>:33: DeprecationWarning: find_elements_by_xpath is deprecated. Please use find_elements(by=By.XPATH, value=xpath) instead\n",
      "  owner=driver.find_elements_by_xpath(\"//div[@class='_1l4fi']/ul/li[2]\")\n",
      "<ipython-input-10-c29b5a940c01>:38: DeprecationWarning: find_elements_by_xpath is deprecated. Please use find_elements(by=By.XPATH, value=xpath) instead\n",
      "  version=driver.find_elements_by_xpath(\"//div[@class='_1l4fi']/ul/li[3]\")\n",
      "<ipython-input-10-c29b5a940c01>:43: DeprecationWarning: find_elements_by_xpath is deprecated. Please use find_elements(by=By.XPATH, value=xpath) instead\n",
      "  price=driver.find_elements_by_xpath(\"//div[@class='_1l4fi']/div[2]/div[2]/span\")\n"
     ]
    }
   ],
   "source": [
    "scrapData(\"Noida\")\n"
   ]
  },
  {
   "cell_type": "code",
   "execution_count": 42,
   "id": "64cd2e0e",
   "metadata": {},
   "outputs": [
    {
     "name": "stdout",
     "output_type": "stream",
     "text": [
      "212\n",
      "212\n",
      "212\n",
      "212\n",
      "212\n",
      "212\n",
      "212\n",
      "212\n",
      "212\n"
     ]
    }
   ],
   "source": [
    "print(len(ModelList))\n",
    "print(len(brandList))\n",
    "print(len(manufacturingYearList))\n",
    "print(len(variantList))\n",
    "print(len(KmDrivenList))\n",
    "print(len(ownerList))\n",
    "print(len(versionList))\n",
    "print(len(priceList))\n",
    "print(len(locationList))"
   ]
  },
  {
   "cell_type": "code",
   "execution_count": 43,
   "id": "82a38cee",
   "metadata": {},
   "outputs": [],
   "source": [
    "url='https://www.cars24.com/buy-used-car?carName=HONDA&sort=P&search=HONDA&storeCityId=8597&pinId=560001'\n",
    "driver.get(url)"
   ]
  },
  {
   "cell_type": "code",
   "execution_count": 44,
   "id": "e7d0670f",
   "metadata": {},
   "outputs": [
    {
     "name": "stderr",
     "output_type": "stream",
     "text": [
      "<ipython-input-10-c29b5a940c01>:4: DeprecationWarning: find_elements_by_xpath is deprecated. Please use find_elements(by=By.XPATH, value=xpath) instead\n",
      "  model=driver.find_elements_by_xpath(\"//div[@class='_1l4fi']/div/div/h2\")\n",
      "<ipython-input-10-c29b5a940c01>:17: DeprecationWarning: find_elements_by_xpath is deprecated. Please use find_elements(by=By.XPATH, value=xpath) instead\n",
      "  variant=driver.find_elements_by_xpath(\"//div[@class='_1l4fi']/div/div/p\")\n",
      "<ipython-input-10-c29b5a940c01>:22: DeprecationWarning: find_elements_by_xpath is deprecated. Please use find_elements(by=By.XPATH, value=xpath) instead\n",
      "  Km=driver.find_elements_by_xpath(\"//div[@class='_1l4fi']/ul/li[1]\")\n",
      "<ipython-input-10-c29b5a940c01>:33: DeprecationWarning: find_elements_by_xpath is deprecated. Please use find_elements(by=By.XPATH, value=xpath) instead\n",
      "  owner=driver.find_elements_by_xpath(\"//div[@class='_1l4fi']/ul/li[2]\")\n",
      "<ipython-input-10-c29b5a940c01>:38: DeprecationWarning: find_elements_by_xpath is deprecated. Please use find_elements(by=By.XPATH, value=xpath) instead\n",
      "  version=driver.find_elements_by_xpath(\"//div[@class='_1l4fi']/ul/li[3]\")\n",
      "<ipython-input-10-c29b5a940c01>:43: DeprecationWarning: find_elements_by_xpath is deprecated. Please use find_elements(by=By.XPATH, value=xpath) instead\n",
      "  price=driver.find_elements_by_xpath(\"//div[@class='_1l4fi']/div[2]/div[2]/span\")\n"
     ]
    }
   ],
   "source": [
    "scrapData(\"Bengaluru\")"
   ]
  },
  {
   "cell_type": "code",
   "execution_count": 45,
   "id": "ce73440e",
   "metadata": {},
   "outputs": [
    {
     "name": "stdout",
     "output_type": "stream",
     "text": [
      "232\n",
      "232\n",
      "232\n",
      "232\n",
      "232\n",
      "232\n",
      "232\n",
      "232\n",
      "232\n"
     ]
    }
   ],
   "source": [
    "print(len(ModelList))\n",
    "print(len(brandList))\n",
    "print(len(manufacturingYearList))\n",
    "print(len(variantList))\n",
    "print(len(KmDrivenList))\n",
    "print(len(ownerList))\n",
    "print(len(versionList))\n",
    "print(len(priceList))\n",
    "print(len(locationList))"
   ]
  },
  {
   "cell_type": "code",
   "execution_count": 46,
   "id": "99501a62",
   "metadata": {},
   "outputs": [],
   "source": [
    "url=\"https://www.cars24.com/buy-used-car?sort=P&search=MAHINDRA&storeCityId=2&pinId=110001\"\n",
    "driver.get(url)"
   ]
  },
  {
   "cell_type": "code",
   "execution_count": 47,
   "id": "ddabf342",
   "metadata": {},
   "outputs": [
    {
     "name": "stderr",
     "output_type": "stream",
     "text": [
      "<ipython-input-10-c29b5a940c01>:4: DeprecationWarning: find_elements_by_xpath is deprecated. Please use find_elements(by=By.XPATH, value=xpath) instead\n",
      "  model=driver.find_elements_by_xpath(\"//div[@class='_1l4fi']/div/div/h2\")\n",
      "<ipython-input-10-c29b5a940c01>:17: DeprecationWarning: find_elements_by_xpath is deprecated. Please use find_elements(by=By.XPATH, value=xpath) instead\n",
      "  variant=driver.find_elements_by_xpath(\"//div[@class='_1l4fi']/div/div/p\")\n",
      "<ipython-input-10-c29b5a940c01>:22: DeprecationWarning: find_elements_by_xpath is deprecated. Please use find_elements(by=By.XPATH, value=xpath) instead\n",
      "  Km=driver.find_elements_by_xpath(\"//div[@class='_1l4fi']/ul/li[1]\")\n",
      "<ipython-input-10-c29b5a940c01>:33: DeprecationWarning: find_elements_by_xpath is deprecated. Please use find_elements(by=By.XPATH, value=xpath) instead\n",
      "  owner=driver.find_elements_by_xpath(\"//div[@class='_1l4fi']/ul/li[2]\")\n",
      "<ipython-input-10-c29b5a940c01>:38: DeprecationWarning: find_elements_by_xpath is deprecated. Please use find_elements(by=By.XPATH, value=xpath) instead\n",
      "  version=driver.find_elements_by_xpath(\"//div[@class='_1l4fi']/ul/li[3]\")\n",
      "<ipython-input-10-c29b5a940c01>:43: DeprecationWarning: find_elements_by_xpath is deprecated. Please use find_elements(by=By.XPATH, value=xpath) instead\n",
      "  price=driver.find_elements_by_xpath(\"//div[@class='_1l4fi']/div[2]/div[2]/span\")\n"
     ]
    }
   ],
   "source": [
    "scrapData(\"NewDelhi\")"
   ]
  },
  {
   "cell_type": "code",
   "execution_count": 48,
   "id": "0910616b",
   "metadata": {},
   "outputs": [
    {
     "name": "stdout",
     "output_type": "stream",
     "text": [
      "247\n",
      "247\n",
      "247\n",
      "247\n",
      "247\n",
      "247\n",
      "247\n",
      "247\n",
      "247\n"
     ]
    }
   ],
   "source": [
    "print(len(ModelList))\n",
    "print(len(brandList))\n",
    "print(len(manufacturingYearList))\n",
    "print(len(variantList))\n",
    "print(len(KmDrivenList))\n",
    "print(len(ownerList))\n",
    "print(len(versionList))\n",
    "print(len(priceList))\n",
    "print(len(locationList))"
   ]
  },
  {
   "cell_type": "code",
   "execution_count": 49,
   "id": "6a7ec124",
   "metadata": {},
   "outputs": [],
   "source": [
    "url='https://www.cars24.com/buy-used-car?carName=TATA&sort=P&storeCityId=4709&pinId=560001'\n",
    "driver.get(url)"
   ]
  },
  {
   "cell_type": "code",
   "execution_count": 50,
   "id": "bcb4d593",
   "metadata": {},
   "outputs": [
    {
     "name": "stderr",
     "output_type": "stream",
     "text": [
      "<ipython-input-10-c29b5a940c01>:4: DeprecationWarning: find_elements_by_xpath is deprecated. Please use find_elements(by=By.XPATH, value=xpath) instead\n",
      "  model=driver.find_elements_by_xpath(\"//div[@class='_1l4fi']/div/div/h2\")\n",
      "<ipython-input-10-c29b5a940c01>:17: DeprecationWarning: find_elements_by_xpath is deprecated. Please use find_elements(by=By.XPATH, value=xpath) instead\n",
      "  variant=driver.find_elements_by_xpath(\"//div[@class='_1l4fi']/div/div/p\")\n",
      "<ipython-input-10-c29b5a940c01>:22: DeprecationWarning: find_elements_by_xpath is deprecated. Please use find_elements(by=By.XPATH, value=xpath) instead\n",
      "  Km=driver.find_elements_by_xpath(\"//div[@class='_1l4fi']/ul/li[1]\")\n",
      "<ipython-input-10-c29b5a940c01>:33: DeprecationWarning: find_elements_by_xpath is deprecated. Please use find_elements(by=By.XPATH, value=xpath) instead\n",
      "  owner=driver.find_elements_by_xpath(\"//div[@class='_1l4fi']/ul/li[2]\")\n",
      "<ipython-input-10-c29b5a940c01>:38: DeprecationWarning: find_elements_by_xpath is deprecated. Please use find_elements(by=By.XPATH, value=xpath) instead\n",
      "  version=driver.find_elements_by_xpath(\"//div[@class='_1l4fi']/ul/li[3]\")\n",
      "<ipython-input-10-c29b5a940c01>:43: DeprecationWarning: find_elements_by_xpath is deprecated. Please use find_elements(by=By.XPATH, value=xpath) instead\n",
      "  price=driver.find_elements_by_xpath(\"//div[@class='_1l4fi']/div[2]/div[2]/span\")\n"
     ]
    }
   ],
   "source": [
    "scrapData(\"Bengaluru\")"
   ]
  },
  {
   "cell_type": "code",
   "execution_count": 51,
   "id": "090cd675",
   "metadata": {},
   "outputs": [
    {
     "name": "stdout",
     "output_type": "stream",
     "text": [
      "267\n",
      "267\n",
      "267\n",
      "267\n",
      "267\n",
      "267\n",
      "267\n",
      "267\n",
      "267\n"
     ]
    }
   ],
   "source": [
    "print(len(ModelList))\n",
    "print(len(brandList))\n",
    "print(len(manufacturingYearList))\n",
    "print(len(variantList))\n",
    "print(len(KmDrivenList))\n",
    "print(len(ownerList))\n",
    "print(len(versionList))\n",
    "print(len(priceList))\n",
    "print(len(locationList))"
   ]
  },
  {
   "cell_type": "code",
   "execution_count": 52,
   "id": "1f01a956",
   "metadata": {},
   "outputs": [],
   "source": [
    "url='https://www.cars24.com/buy-used-ford-cars-bengaluru/'\n",
    "driver.get(url)"
   ]
  },
  {
   "cell_type": "code",
   "execution_count": 53,
   "id": "4d289fb3",
   "metadata": {},
   "outputs": [
    {
     "name": "stderr",
     "output_type": "stream",
     "text": [
      "<ipython-input-10-c29b5a940c01>:4: DeprecationWarning: find_elements_by_xpath is deprecated. Please use find_elements(by=By.XPATH, value=xpath) instead\n",
      "  model=driver.find_elements_by_xpath(\"//div[@class='_1l4fi']/div/div/h2\")\n",
      "<ipython-input-10-c29b5a940c01>:17: DeprecationWarning: find_elements_by_xpath is deprecated. Please use find_elements(by=By.XPATH, value=xpath) instead\n",
      "  variant=driver.find_elements_by_xpath(\"//div[@class='_1l4fi']/div/div/p\")\n",
      "<ipython-input-10-c29b5a940c01>:22: DeprecationWarning: find_elements_by_xpath is deprecated. Please use find_elements(by=By.XPATH, value=xpath) instead\n",
      "  Km=driver.find_elements_by_xpath(\"//div[@class='_1l4fi']/ul/li[1]\")\n",
      "<ipython-input-10-c29b5a940c01>:33: DeprecationWarning: find_elements_by_xpath is deprecated. Please use find_elements(by=By.XPATH, value=xpath) instead\n",
      "  owner=driver.find_elements_by_xpath(\"//div[@class='_1l4fi']/ul/li[2]\")\n",
      "<ipython-input-10-c29b5a940c01>:38: DeprecationWarning: find_elements_by_xpath is deprecated. Please use find_elements(by=By.XPATH, value=xpath) instead\n",
      "  version=driver.find_elements_by_xpath(\"//div[@class='_1l4fi']/ul/li[3]\")\n",
      "<ipython-input-10-c29b5a940c01>:43: DeprecationWarning: find_elements_by_xpath is deprecated. Please use find_elements(by=By.XPATH, value=xpath) instead\n",
      "  price=driver.find_elements_by_xpath(\"//div[@class='_1l4fi']/div[2]/div[2]/span\")\n"
     ]
    }
   ],
   "source": [
    "\n",
    "scrapData(\"Bengaluru\")"
   ]
  },
  {
   "cell_type": "code",
   "execution_count": 54,
   "id": "4c21c496",
   "metadata": {},
   "outputs": [
    {
     "name": "stdout",
     "output_type": "stream",
     "text": [
      "287\n",
      "287\n",
      "287\n",
      "287\n",
      "287\n",
      "287\n",
      "287\n",
      "287\n",
      "287\n"
     ]
    }
   ],
   "source": [
    "print(len(ModelList))\n",
    "print(len(brandList))\n",
    "print(len(manufacturingYearList))\n",
    "print(len(variantList))\n",
    "print(len(KmDrivenList))\n",
    "print(len(ownerList))\n",
    "print(len(versionList))\n",
    "print(len(priceList))\n",
    "print(len(locationList))"
   ]
  },
  {
   "cell_type": "code",
   "execution_count": 55,
   "id": "a541be16",
   "metadata": {},
   "outputs": [],
   "source": [
    "url='https://www.cars24.com/buy-used-car?sort=P&storeCityId=1692&pinId=380001'\n",
    "driver.get(url)"
   ]
  },
  {
   "cell_type": "code",
   "execution_count": 56,
   "id": "f2c158c1",
   "metadata": {},
   "outputs": [
    {
     "name": "stderr",
     "output_type": "stream",
     "text": [
      "<ipython-input-10-c29b5a940c01>:4: DeprecationWarning: find_elements_by_xpath is deprecated. Please use find_elements(by=By.XPATH, value=xpath) instead\n",
      "  model=driver.find_elements_by_xpath(\"//div[@class='_1l4fi']/div/div/h2\")\n",
      "<ipython-input-10-c29b5a940c01>:17: DeprecationWarning: find_elements_by_xpath is deprecated. Please use find_elements(by=By.XPATH, value=xpath) instead\n",
      "  variant=driver.find_elements_by_xpath(\"//div[@class='_1l4fi']/div/div/p\")\n",
      "<ipython-input-10-c29b5a940c01>:22: DeprecationWarning: find_elements_by_xpath is deprecated. Please use find_elements(by=By.XPATH, value=xpath) instead\n",
      "  Km=driver.find_elements_by_xpath(\"//div[@class='_1l4fi']/ul/li[1]\")\n",
      "<ipython-input-10-c29b5a940c01>:33: DeprecationWarning: find_elements_by_xpath is deprecated. Please use find_elements(by=By.XPATH, value=xpath) instead\n",
      "  owner=driver.find_elements_by_xpath(\"//div[@class='_1l4fi']/ul/li[2]\")\n",
      "<ipython-input-10-c29b5a940c01>:38: DeprecationWarning: find_elements_by_xpath is deprecated. Please use find_elements(by=By.XPATH, value=xpath) instead\n",
      "  version=driver.find_elements_by_xpath(\"//div[@class='_1l4fi']/ul/li[3]\")\n",
      "<ipython-input-10-c29b5a940c01>:43: DeprecationWarning: find_elements_by_xpath is deprecated. Please use find_elements(by=By.XPATH, value=xpath) instead\n",
      "  price=driver.find_elements_by_xpath(\"//div[@class='_1l4fi']/div[2]/div[2]/span\")\n"
     ]
    }
   ],
   "source": [
    "\n",
    "scrapData(\"Ahemadabaad\")"
   ]
  },
  {
   "cell_type": "code",
   "execution_count": 57,
   "id": "e8842038",
   "metadata": {},
   "outputs": [
    {
     "name": "stdout",
     "output_type": "stream",
     "text": [
      "307\n",
      "307\n",
      "307\n",
      "307\n",
      "307\n",
      "307\n",
      "307\n",
      "307\n",
      "307\n"
     ]
    }
   ],
   "source": [
    "print(len(ModelList))\n",
    "print(len(brandList))\n",
    "print(len(manufacturingYearList))\n",
    "print(len(variantList))\n",
    "print(len(KmDrivenList))\n",
    "print(len(ownerList))\n",
    "print(len(versionList))\n",
    "print(len(priceList))\n",
    "print(len(locationList))"
   ]
  },
  {
   "cell_type": "code",
   "execution_count": 58,
   "id": "68efc972",
   "metadata": {},
   "outputs": [],
   "source": [
    "url='https://www.cars24.com/buy-used-car?sort=P&storeCityId=2423&pinId=411001'\n",
    "driver.get(url)"
   ]
  },
  {
   "cell_type": "code",
   "execution_count": 59,
   "id": "f26ebca4",
   "metadata": {},
   "outputs": [
    {
     "name": "stderr",
     "output_type": "stream",
     "text": [
      "<ipython-input-10-c29b5a940c01>:4: DeprecationWarning: find_elements_by_xpath is deprecated. Please use find_elements(by=By.XPATH, value=xpath) instead\n",
      "  model=driver.find_elements_by_xpath(\"//div[@class='_1l4fi']/div/div/h2\")\n",
      "<ipython-input-10-c29b5a940c01>:17: DeprecationWarning: find_elements_by_xpath is deprecated. Please use find_elements(by=By.XPATH, value=xpath) instead\n",
      "  variant=driver.find_elements_by_xpath(\"//div[@class='_1l4fi']/div/div/p\")\n",
      "<ipython-input-10-c29b5a940c01>:22: DeprecationWarning: find_elements_by_xpath is deprecated. Please use find_elements(by=By.XPATH, value=xpath) instead\n",
      "  Km=driver.find_elements_by_xpath(\"//div[@class='_1l4fi']/ul/li[1]\")\n",
      "<ipython-input-10-c29b5a940c01>:33: DeprecationWarning: find_elements_by_xpath is deprecated. Please use find_elements(by=By.XPATH, value=xpath) instead\n",
      "  owner=driver.find_elements_by_xpath(\"//div[@class='_1l4fi']/ul/li[2]\")\n",
      "<ipython-input-10-c29b5a940c01>:38: DeprecationWarning: find_elements_by_xpath is deprecated. Please use find_elements(by=By.XPATH, value=xpath) instead\n",
      "  version=driver.find_elements_by_xpath(\"//div[@class='_1l4fi']/ul/li[3]\")\n",
      "<ipython-input-10-c29b5a940c01>:43: DeprecationWarning: find_elements_by_xpath is deprecated. Please use find_elements(by=By.XPATH, value=xpath) instead\n",
      "  price=driver.find_elements_by_xpath(\"//div[@class='_1l4fi']/div[2]/div[2]/span\")\n"
     ]
    }
   ],
   "source": [
    "\n",
    "scrapData(\"Pune\")"
   ]
  },
  {
   "cell_type": "code",
   "execution_count": 60,
   "id": "f93f6e74",
   "metadata": {},
   "outputs": [
    {
     "name": "stdout",
     "output_type": "stream",
     "text": [
      "327\n",
      "327\n",
      "327\n",
      "327\n",
      "327\n",
      "327\n",
      "327\n",
      "327\n",
      "327\n"
     ]
    }
   ],
   "source": [
    "print(len(ModelList))\n",
    "print(len(brandList))\n",
    "print(len(manufacturingYearList))\n",
    "print(len(variantList))\n",
    "print(len(KmDrivenList))\n",
    "print(len(ownerList))\n",
    "print(len(versionList))\n",
    "print(len(priceList))\n",
    "print(len(locationList))"
   ]
  },
  {
   "cell_type": "code",
   "execution_count": 61,
   "id": "fb47086c",
   "metadata": {},
   "outputs": [],
   "source": [
    "df=pd.DataFrame({})\n",
    "df['Brand']=brandList\n",
    "df['Model']=ModelList\n",
    "\n",
    "df['Year']=manufacturingYearList\n",
    "df['Variant']=variantList\n",
    "df['Location']=locationList\n",
    "df['version']=versionList\n",
    "df['Number of Owners']=ownerList\n",
    "df['KmDriven']=KmDrivenList\n",
    "df['Price']=priceList"
   ]
  },
  {
   "cell_type": "code",
   "execution_count": 62,
   "id": "082f6eff",
   "metadata": {},
   "outputs": [
    {
     "data": {
      "text/html": [
       "<div>\n",
       "<style scoped>\n",
       "    .dataframe tbody tr th:only-of-type {\n",
       "        vertical-align: middle;\n",
       "    }\n",
       "\n",
       "    .dataframe tbody tr th {\n",
       "        vertical-align: top;\n",
       "    }\n",
       "\n",
       "    .dataframe thead th {\n",
       "        text-align: right;\n",
       "    }\n",
       "</style>\n",
       "<table border=\"1\" class=\"dataframe\">\n",
       "  <thead>\n",
       "    <tr style=\"text-align: right;\">\n",
       "      <th></th>\n",
       "      <th>Brand</th>\n",
       "      <th>Model</th>\n",
       "      <th>Year</th>\n",
       "      <th>Variant</th>\n",
       "      <th>Location</th>\n",
       "      <th>version</th>\n",
       "      <th>Number of Owners</th>\n",
       "      <th>KmDriven</th>\n",
       "      <th>Price</th>\n",
       "    </tr>\n",
       "  </thead>\n",
       "  <tbody>\n",
       "    <tr>\n",
       "      <th>0</th>\n",
       "      <td>Hyundai</td>\n",
       "      <td>i10</td>\n",
       "      <td>2009</td>\n",
       "      <td>ERA 1.1 IRDE Manual</td>\n",
       "      <td>Noida</td>\n",
       "      <td>Petrol</td>\n",
       "      <td>1st Owner</td>\n",
       "      <td>44315</td>\n",
       "      <td>207699</td>\n",
       "    </tr>\n",
       "    <tr>\n",
       "      <th>1</th>\n",
       "      <td>Hyundai</td>\n",
       "      <td>i20</td>\n",
       "      <td>2013</td>\n",
       "      <td>ERA 1.4 CRDI Manual</td>\n",
       "      <td>Noida</td>\n",
       "      <td>Diesel</td>\n",
       "      <td>1st Owner</td>\n",
       "      <td>32804</td>\n",
       "      <td>351699</td>\n",
       "    </tr>\n",
       "    <tr>\n",
       "      <th>2</th>\n",
       "      <td>Hyundai</td>\n",
       "      <td>Verna</td>\n",
       "      <td>2014</td>\n",
       "      <td>FLUIDIC 1.6 SX CRDI Manual</td>\n",
       "      <td>Noida</td>\n",
       "      <td>Diesel</td>\n",
       "      <td>1st Owner</td>\n",
       "      <td>56443</td>\n",
       "      <td>520999</td>\n",
       "    </tr>\n",
       "    <tr>\n",
       "      <th>3</th>\n",
       "      <td>Hyundai</td>\n",
       "      <td>i20</td>\n",
       "      <td>2013</td>\n",
       "      <td>SPORTZ 1.4 CRDI Manual</td>\n",
       "      <td>Noida</td>\n",
       "      <td>Diesel</td>\n",
       "      <td>1st Owner</td>\n",
       "      <td>64543</td>\n",
       "      <td>364899</td>\n",
       "    </tr>\n",
       "    <tr>\n",
       "      <th>4</th>\n",
       "      <td>Hyundai</td>\n",
       "      <td>i20</td>\n",
       "      <td>2010</td>\n",
       "      <td>MAGNA O 1.2 Manual</td>\n",
       "      <td>Noida</td>\n",
       "      <td>Petrol</td>\n",
       "      <td>1st Owner</td>\n",
       "      <td>60405</td>\n",
       "      <td>298999</td>\n",
       "    </tr>\n",
       "    <tr>\n",
       "      <th>...</th>\n",
       "      <td>...</td>\n",
       "      <td>...</td>\n",
       "      <td>...</td>\n",
       "      <td>...</td>\n",
       "      <td>...</td>\n",
       "      <td>...</td>\n",
       "      <td>...</td>\n",
       "      <td>...</td>\n",
       "      <td>...</td>\n",
       "    </tr>\n",
       "    <tr>\n",
       "      <th>322</th>\n",
       "      <td>Honda</td>\n",
       "      <td>WR-V</td>\n",
       "      <td>2017</td>\n",
       "      <td>1.2 i-VTEC VX MT Manual</td>\n",
       "      <td>Pune</td>\n",
       "      <td>Petrol</td>\n",
       "      <td>1st Owner</td>\n",
       "      <td>69727</td>\n",
       "      <td>649499</td>\n",
       "    </tr>\n",
       "    <tr>\n",
       "      <th>323</th>\n",
       "      <td>Landrover</td>\n",
       "      <td>Freelander 2</td>\n",
       "      <td>2014</td>\n",
       "      <td>TD4 SE Automatic</td>\n",
       "      <td>Pune</td>\n",
       "      <td>Diesel</td>\n",
       "      <td>2nd Owner</td>\n",
       "      <td>118234</td>\n",
       "      <td>1477799</td>\n",
       "    </tr>\n",
       "    <tr>\n",
       "      <th>324</th>\n",
       "      <td>Hyundai</td>\n",
       "      <td>Creta</td>\n",
       "      <td>2015</td>\n",
       "      <td>1.6 SX PLUS PETROL Manual</td>\n",
       "      <td>Pune</td>\n",
       "      <td>Petrol</td>\n",
       "      <td>1st Owner</td>\n",
       "      <td>59323</td>\n",
       "      <td>850999</td>\n",
       "    </tr>\n",
       "    <tr>\n",
       "      <th>325</th>\n",
       "      <td>Jeep</td>\n",
       "      <td>Compass</td>\n",
       "      <td>2017</td>\n",
       "      <td>LIMITED (O) 2.0 Manual</td>\n",
       "      <td>Pune</td>\n",
       "      <td>Diesel</td>\n",
       "      <td>2nd Owner</td>\n",
       "      <td>65729</td>\n",
       "      <td>1381399</td>\n",
       "    </tr>\n",
       "    <tr>\n",
       "      <th>326</th>\n",
       "      <td>Renault</td>\n",
       "      <td>Duster</td>\n",
       "      <td>2012</td>\n",
       "      <td>RXZ DIESEL 110 Manual</td>\n",
       "      <td>Pune</td>\n",
       "      <td>Diesel</td>\n",
       "      <td>2nd Owner</td>\n",
       "      <td>126131</td>\n",
       "      <td>496799</td>\n",
       "    </tr>\n",
       "  </tbody>\n",
       "</table>\n",
       "<p>327 rows × 9 columns</p>\n",
       "</div>"
      ],
      "text/plain": [
       "         Brand         Model  Year                     Variant Location  \\\n",
       "0      Hyundai           i10  2009         ERA 1.1 IRDE Manual    Noida   \n",
       "1      Hyundai           i20  2013         ERA 1.4 CRDI Manual    Noida   \n",
       "2      Hyundai         Verna  2014  FLUIDIC 1.6 SX CRDI Manual    Noida   \n",
       "3      Hyundai           i20  2013      SPORTZ 1.4 CRDI Manual    Noida   \n",
       "4      Hyundai           i20  2010          MAGNA O 1.2 Manual    Noida   \n",
       "..         ...           ...   ...                         ...      ...   \n",
       "322      Honda          WR-V  2017     1.2 i-VTEC VX MT Manual     Pune   \n",
       "323  Landrover  Freelander 2  2014            TD4 SE Automatic     Pune   \n",
       "324    Hyundai         Creta  2015   1.6 SX PLUS PETROL Manual     Pune   \n",
       "325       Jeep       Compass  2017      LIMITED (O) 2.0 Manual     Pune   \n",
       "326    Renault        Duster  2012       RXZ DIESEL 110 Manual     Pune   \n",
       "\n",
       "    version Number of Owners  KmDriven    Price  \n",
       "0    Petrol        1st Owner     44315   207699  \n",
       "1    Diesel        1st Owner     32804   351699  \n",
       "2    Diesel        1st Owner     56443   520999  \n",
       "3    Diesel        1st Owner     64543   364899  \n",
       "4    Petrol        1st Owner     60405   298999  \n",
       "..      ...              ...       ...      ...  \n",
       "322  Petrol        1st Owner     69727   649499  \n",
       "323  Diesel        2nd Owner    118234  1477799  \n",
       "324  Petrol        1st Owner     59323   850999  \n",
       "325  Diesel        2nd Owner     65729  1381399  \n",
       "326  Diesel        2nd Owner    126131   496799  \n",
       "\n",
       "[327 rows x 9 columns]"
      ]
     },
     "execution_count": 62,
     "metadata": {},
     "output_type": "execute_result"
    }
   ],
   "source": [
    "df"
   ]
  },
  {
   "cell_type": "code",
   "execution_count": 65,
   "id": "3624ebf7",
   "metadata": {},
   "outputs": [],
   "source": [
    "df.to_excel(r\"C:\\Users\\Asha Vinod Kumar\\Desktop\\car data.xlsx\")"
   ]
  },
  {
   "cell_type": "code",
   "execution_count": null,
   "id": "4a9f742a",
   "metadata": {},
   "outputs": [],
   "source": []
  }
 ],
 "metadata": {
  "kernelspec": {
   "display_name": "Python 3",
   "language": "python",
   "name": "python3"
  },
  "language_info": {
   "codemirror_mode": {
    "name": "ipython",
    "version": 3
   },
   "file_extension": ".py",
   "mimetype": "text/x-python",
   "name": "python",
   "nbconvert_exporter": "python",
   "pygments_lexer": "ipython3",
   "version": "3.8.8"
  }
 },
 "nbformat": 4,
 "nbformat_minor": 5
}
