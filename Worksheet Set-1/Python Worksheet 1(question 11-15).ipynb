{
 "cells": [
  {
   "cell_type": "markdown",
   "id": "c1a7e0b7",
   "metadata": {},
   "source": [
    "#  Q.11 factorial of a number"
   ]
  },
  {
   "cell_type": "code",
   "execution_count": 3,
   "id": "c5c4ab91",
   "metadata": {},
   "outputs": [
    {
     "name": "stdout",
     "output_type": "stream",
     "text": [
      "Enter your number5\n",
      "120\n"
     ]
    }
   ],
   "source": [
    "num=int(input(\"Enter your number\"))\n",
    "fact=1\n",
    "\n",
    "while(num>0):\n",
    "    fact=fact*num\n",
    "    num=num-1\n",
    "print(fact)"
   ]
  },
  {
   "cell_type": "markdown",
   "id": "e8658406",
   "metadata": {},
   "source": [
    "# Q.12 prime number"
   ]
  },
  {
   "cell_type": "code",
   "execution_count": 8,
   "id": "f9acf12d",
   "metadata": {},
   "outputs": [
    {
     "name": "stdout",
     "output_type": "stream",
     "text": [
      "Enter your number1\n",
      "not a prime number\n"
     ]
    }
   ],
   "source": [
    "num1=int(input(\"Enter your number\"))\n",
    "\n",
    "if num1>=2:\n",
    "    for i in range(2,num1):\n",
    "        if num1%i==0:\n",
    "            print(\"Not a prime number\")\n",
    "            break\n",
    "    else:\n",
    "        print('prime number')\n",
    "else:\n",
    "    print('not a prime number')\n",
    "            "
   ]
  },
  {
   "cell_type": "markdown",
   "id": "237c309d",
   "metadata": {},
   "source": [
    "# Q.13 Pallindrome or not"
   ]
  },
  {
   "cell_type": "code",
   "execution_count": 12,
   "id": "943e66aa",
   "metadata": {},
   "outputs": [
    {
     "name": "stdout",
     "output_type": "stream",
     "text": [
      "Enter your number12458\n",
      "not a pallindrome\n"
     ]
    }
   ],
   "source": [
    "num2=int(input('Enter your number'))\n",
    "number=num2\n",
    "\n",
    "rev=0\n",
    "\n",
    "while(num2>0):\n",
    "    rev=num2%10+rev*10\n",
    "    num2=num2//10\n",
    "if number==rev:\n",
    "    print('Pallindrome')\n",
    "else:\n",
    "    print('not a pallindrome')\n",
    "    "
   ]
  },
  {
   "cell_type": "markdown",
   "id": "2132f2d2",
   "metadata": {},
   "source": [
    "# Q.14 Third side of a right angled triangle"
   ]
  },
  {
   "cell_type": "code",
   "execution_count": 7,
   "id": "783a8653",
   "metadata": {},
   "outputs": [
    {
     "name": "stdout",
     "output_type": "stream",
     "text": [
      "select 1st side of triangle\n",
      "base\n",
      "Enter dimension of 1st sideof triangle\n",
      "8\n",
      "select 2nd side of triangle\n",
      "hypotenuse\n",
      "enter side 2 dimension\n",
      "9\n",
      "the perpendicaular is 4.123105625617661\n"
     ]
    }
   ],
   "source": [
    "# let b is base,p is perpendicular and h be the hypotenuse\n",
    "\n",
    "import math \n",
    "\n",
    "a=input(\"select 1st side of triangle\\n\")\n",
    "x=int(input(\"Enter dimension of 1st sideof triangle\\n\"))\n",
    "b=input(\"select 2nd side of triangle\\n\")\n",
    "y=int(input(\"enter side 2 dimension\\n\"))\n",
    "\n",
    "if  a=='base'and b=='perpendicular':\n",
    "    print(\"the hypotenuse is\",math.sqrt((x*x)+(y*y)))\n",
    "elif a=='base' and b=='hypotenuse':\n",
    "    print(\"the perpendicaular is\", math.sqrt((y*y)-(x*x)))\n",
    "elif a=='perpendicular' and b=='hypotenuse':\n",
    "    print(\"the base is\", math.sqrt((y*y)-(x*x)))\n",
    "elif a=='perpendicular' and b=='base':\n",
    "    print(\"the hpotenuse is\", math.sqrt((x*x)+(y*y)))\n",
    "elif a=='hypotenuse' and b=='base':\n",
    "    print(\"the perpendicaular is\", math.sqrt((x*x)-(y*y)))\n",
    "elif a=='hypotenuse' and b=='perpendicular':\n",
    "    print(\"the base is\", math.sqrt((x*x)-(y*y)))\n",
    "else:\n",
    "    print(\"enter valid input\")\n",
    "\n",
    "    \n",
    "\n",
    "                \n",
    "  "
   ]
  },
  {
   "cell_type": "markdown",
   "id": "e4f6296d",
   "metadata": {},
   "source": [
    "# Q.15 Frequency of characters present in a given string"
   ]
  },
  {
   "cell_type": "code",
   "execution_count": 10,
   "id": "6fa3fbed",
   "metadata": {},
   "outputs": [
    {
     "name": "stdout",
     "output_type": "stream",
     "text": [
      "Enter word\n",
      "kamran\n",
      "Count of all characters in given string is :\n",
      " {'k': 1, 'a': 2, 'm': 1, 'r': 1, 'n': 1}\n"
     ]
    }
   ],
   "source": [
    "string1=input(\"Enter word\\n\")\n",
    "\n",
    "all_freq = {}\n",
    "\n",
    "for i in string1:\n",
    "    if i in all_freq:\n",
    "        all_freq[i] += 1\n",
    "    else:\n",
    "        all_freq[i] = 1\n",
    "    \n",
    "\n",
    "\n",
    "\n",
    "# printing result\n",
    "print (\"Count of all characters in given string is :\\n \" + str(all_freq))\n"
   ]
  },
  {
   "cell_type": "code",
   "execution_count": null,
   "id": "52491cca",
   "metadata": {},
   "outputs": [],
   "source": []
  }
 ],
 "metadata": {
  "kernelspec": {
   "display_name": "Python 3 (ipykernel)",
   "language": "python",
   "name": "python3"
  },
  "language_info": {
   "codemirror_mode": {
    "name": "ipython",
    "version": 3
   },
   "file_extension": ".py",
   "mimetype": "text/x-python",
   "name": "python",
   "nbconvert_exporter": "python",
   "pygments_lexer": "ipython3",
   "version": "3.9.12"
  }
 },
 "nbformat": 4,
 "nbformat_minor": 5
}
